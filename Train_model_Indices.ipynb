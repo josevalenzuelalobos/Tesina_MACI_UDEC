{
 "cells": [
  {
   "cell_type": "code",
   "execution_count": 40,
   "metadata": {},
   "outputs": [],
   "source": [
    "# Imports for handling and analysis of TIFF files\n",
    "from Tesina_Tiff_and_Shapefile_Utils import (\n",
    "    extract_pixels_within_mask,\n",
    "    get_raster_info,\n",
    "    reproject_tiff_files,\n",
    "    copy_auxiliary_files\n",
    ")\n",
    "\n",
    "# Imports for processing shapefiles and manipulating pixel data\n",
    "from Tesina_Tiff_and_Shapefile_Utils import (\n",
    "    process_shapefile_data,\n",
    "    analyze_masks_and_labels,\n",
    "    enrich_metadata_with_pixel_data,\n",
    "    reorder_and_select_specific_bands,\n",
    "    normalize_pixels_globally_with_margin,\n",
    "    realign_and_filter_pixel_data_by_bands\n",
    ")\n",
    "\n",
    "# Imports for recursively printing the structure and content of objects\n",
    "from Tesina_General_Utils import print_recursive_structure_and_content, find_common_and_uncommon_elements\n"
   ]
  },
  {
   "cell_type": "code",
   "execution_count": 41,
   "metadata": {},
   "outputs": [],
   "source": [
    "input_folder = 'data/output/labels/tiff/EPSG_3857/'\n",
    "output_folder = 'data/output/labels/tiff/'\n",
    "new_crs = 'EPSG:4326'  # o cualquier otro CRS que necesites\n",
    "\n",
    "reproject_tiff_files(input_folder, output_folder, new_crs)"
   ]
  },
  {
   "cell_type": "code",
   "execution_count": 42,
   "metadata": {},
   "outputs": [
    {
     "name": "stdout",
     "output_type": "stream",
     "text": [
      "Label occurrences:\n",
      "Talado: 15 times\n",
      "Quemado: 12 times\n",
      "Nubes: 16 times\n",
      "Bosque: 7 times\n",
      "\n",
      "True values in masks by label:\n",
      "Talado: 82230 True values\n",
      "Quemado: 316263 True values\n",
      "Nubes: 1541624 True values\n",
      "Bosque: 552283 True values\n",
      "\n",
      "False values in masks by label:\n",
      "Talado: 2358273 False values\n",
      "Quemado: 3259861 False values\n",
      "Nubes: 1927211 False values\n",
      "Bosque: 892500 False values\n"
     ]
    }
   ],
   "source": [
    "metadata_list = process_shapefile_data('data/output/labels', 'EPSG_3857')\n",
    "analyze_masks_and_labels(metadata_list)\n",
    "output_enriched = enrich_metadata_with_pixel_data(metadata_list)"
   ]
  },
  {
   "cell_type": "code",
   "execution_count": 43,
   "metadata": {},
   "outputs": [],
   "source": [
    "#print_recursive_structure_and_content(output_enriched[0])"
   ]
  },
  {
   "cell_type": "code",
   "execution_count": 44,
   "metadata": {},
   "outputs": [
    {
     "name": "stdout",
     "output_type": "stream",
     "text": [
      "Common bands: {'green', 'nir09', 'swir22', 'rededge1', 'red', 'rededge2', 'swir16', 'nir08', 'scl', 'nir', 'rededge3', 'blue'}\n",
      "Uncommon bands: {'coastal'}\n",
      "Selected bands: {'green', 'nir09', 'swir22', 'rededge1', 'red', 'rededge2', 'swir16', 'nir08', 'nir', 'rededge3', 'blue'}\n"
     ]
    }
   ],
   "source": [
    "selected_bands, uncommon_bands = find_common_and_uncommon_elements(output_enriched, \"band_names\")\n",
    "print(f\"Common bands: {selected_bands}\")\n",
    "print(f\"Uncommon bands: {uncommon_bands}\")\n",
    "#remove \"scl\" from selected bands\n",
    "selected_bands.remove(\"scl\")\n",
    "print(f\"Selected bands: {selected_bands}\")"
   ]
  },
  {
   "cell_type": "code",
   "execution_count": 45,
   "metadata": {},
   "outputs": [],
   "source": [
    "output_enriched = realign_and_filter_pixel_data_by_bands(output_enriched, selected_bands)"
   ]
  },
  {
   "cell_type": "code",
   "execution_count": 46,
   "metadata": {},
   "outputs": [
    {
     "name": "stdout",
     "output_type": "stream",
     "text": [
      "min_global: [0. 0. 0. 0. 0. 0. 0. 0. 0. 0. 0.]\n",
      "max_global: [17362.4 17132.4 16659.1 18132.3 18453.6 17857.3 16781.9 17466.4 17534.6\n",
      " 17683.8 16649.5]\n"
     ]
    }
   ],
   "source": [
    "output_normalized, min_global, max_global = normalize_pixels_globally_with_margin(output_enriched)\n",
    "print(f\"min_global: {min_global}\")\n",
    "print(f\"max_global: {max_global}\")"
   ]
  },
  {
   "cell_type": "code",
   "execution_count": 47,
   "metadata": {},
   "outputs": [],
   "source": [
    "#print_recursive_structure_and_content(output_normalized[0])"
   ]
  },
  {
   "cell_type": "code",
   "execution_count": 48,
   "metadata": {},
   "outputs": [],
   "source": [
    "import numpy as np\n",
    "\n",
    "def calculate_and_normalize_indexs(output_data, index_names, band_names):\n",
    "    \"\"\"\n",
    "    Calculate vegetation indices and normalize them globally across all entries in output_data.\n",
    "\n",
    "    Parameters:\n",
    "    - output_data : list of dicts\n",
    "        Each entry contains 'pixels' which is a list of lists of pixel values for bands.\n",
    "    - index_names : list of str\n",
    "        List of vegetation index names to calculate.\n",
    "    - band_names : list of str\n",
    "        List of band names used for index calculations.\n",
    "\n",
    "    Returns:\n",
    "    - output_data : list of dicts\n",
    "        The input list of dictionaries, but with an added key 'index' in each\n",
    "        dictionary containing the calculated index values.\n",
    "    - normalized_indices : list of lists\n",
    "        A list of lists where each sublist contains normalized index values for each index.\n",
    "    \"\"\"\n",
    "    band_names = list(band_names)\n",
    "\n",
    "    # Initialize a list to store normalized index values\n",
    "    normalized_indices = []\n",
    "    required_bands = {\n",
    "        # Vegetation Index Functions\n",
    "        'NDVI': ['red', 'nir'],\n",
    "        'NVR': ['red', 'nir', 'blue'],\n",
    "        'SAVI': ['red', 'nir'],\n",
    "        'MTCI': ['red', 'nir', 'rededge3'],\n",
    "        'ARVI': ['red', 'nir', 'blue'],\n",
    "        'WDVI': ['red', 'nir'],\n",
    "\n",
    "        # Water Index Functions\n",
    "        'NDWI': ['green', 'nir'],\n",
    "        'MNDWI': ['green', 'swir16'],\n",
    "        'AWEI_sh': ['blue', 'green', 'nir', 'swir16', 'swir22'],\n",
    "        'WI': ['green', 'blue', 'nir', 'red', 'swir16'],\n",
    "\n",
    "        # Fire Index Functions\n",
    "        'NBR': ['nir', 'swir22'],\n",
    "        'BAI': ['red', 'nir'],\n",
    "        'AFI': ['swir16', 'swir22'],\n",
    "        'VFDI': ['nir', 'swir16'],\n",
    "\n",
    "        # Cloud Index Functions\n",
    "        'CCI': ['swir16', 'nir'],\n",
    "        'NDCI': ['green', 'red']\n",
    "    }\n",
    "\n",
    "    # Create a dictionary to map index names to calculation functions\n",
    "    index_functions = {\n",
    "         # Existing Vegetation Index Functions\n",
    "        'NDVI': lambda red, nir: (nir - red) / (nir + red),\n",
    "        'NVR': lambda red, nir, blue: (nir - red) / (nir + red - blue),\n",
    "        'SAVI': lambda red, nir: ((nir - red) / (nir + red + 0.5)) * (1 + 0.5),\n",
    "        'MTCI': lambda red, nir, rededge3: (nir - rededge3) / (rededge3 - red) if (rededge3 - red) != 0 else 0,\n",
    "        'ARVI': lambda red, nir, blue: (nir - (2 * red - blue)) / (nir + (2 * red - blue)),\n",
    "        'WDVI': lambda red, nir: nir - red,\n",
    "\n",
    "        # Water Index Functions\n",
    "        'NDWI': lambda green, nir: (green - nir) / (green + nir),\n",
    "        'MNDWI': lambda green, swir16: (green - swir16) / (green + swir16),\n",
    "        'AWEI_sh': lambda blue, green, nir, swir16, swir22: blue + 2.5 * green - 1.5 * (nir + swir16) - 0.25 * swir22,\n",
    "        'WI': lambda green, blue, nir, red, swir16: green + 2.5 * blue - 1.5 * (nir + red) - 0.25 * swir16,\n",
    "\n",
    "        # Fire Index Functions\n",
    "        'NBR': lambda nir, swir22: (nir - swir22) / (nir + swir22),\n",
    "        'BAI': lambda red, nir: 1.0 / ((0.10 - red) ** 2 + (0.06 - nir) ** 2),\n",
    "        'AFI': lambda swir16, swir22: (swir22 - swir16) / (swir22 + swir16),\n",
    "        'VFDI': lambda nir, swir16: (swir16 + nir) / (swir16 - nir),\n",
    "\n",
    "        # Cloud Index Functions\n",
    "        'CCI': lambda swir16, nir: (swir16 - nir) / (swir16 + nir),\n",
    "        'NDCI': lambda green, red: (green - red) / (green + red)\n",
    "    }\n",
    "\n",
    "    # Iterate through each entry in output_data\n",
    "    for entry in output_data:\n",
    "        pixels = np.array(entry['pixels'])\n",
    "\n",
    "        # Calcular los valores de índice para cada píxel\n",
    "        index_values = []\n",
    "        for pixel_values in pixels:\n",
    "            calculated_indices = []\n",
    "            for index_name in index_names:\n",
    "                try:\n",
    "                    # Extraer valores de banda necesarios para el índice actual\n",
    "                    band_vals = {band: pixel_values[band_names.index(band)] for band in required_bands[index_name]}\n",
    "                    # Calcular el valor del índice usando las bandas extraídas\n",
    "                    calculated_index = index_functions[index_name](**band_vals)\n",
    "                except (KeyError, IndexError):\n",
    "                    # Manejar la falta de bandas necesarias o índices fuera de rango\n",
    "                    calculated_index = None\n",
    "                calculated_indices.append(calculated_index)\n",
    "            index_values.append(calculated_indices)\n",
    "\n",
    "        # Agregar valores de índice calculados a la entrada\n",
    "        entry['index'] = index_values\n",
    "\n",
    "    # Calculate global min and max for each index across all entries\n",
    "    all_indices = [idx for entry in output_data for idx in entry['index']]\n",
    "    all_indices = np.array(all_indices)\n",
    "    min_global = np.min(all_indices, axis=0)\n",
    "    max_global = np.max(all_indices, axis=0)\n",
    "    print(max_global)\n",
    "\n",
    "    # Normalize index values using global min and max\n",
    "    normalized_indices = (all_indices - min_global) / (max_global - min_global)\n",
    "            \n",
    "    # Add normalized index values to each entry in output_data\n",
    "    index_counter = 0\n",
    "    for entry in output_data:\n",
    "        num_pixels = len(entry['pixels'])\n",
    "        entry['normalized_index'] = normalized_indices[index_counter:index_counter+num_pixels].tolist()\n",
    "        index_counter += num_pixels\n",
    "    print(len(normalized_indices))\n",
    "    return output_data, normalized_indices, min_global, max_global"
   ]
  },
  {
   "cell_type": "code",
   "execution_count": 49,
   "metadata": {},
   "outputs": [
    {
     "name": "stdout",
     "output_type": "stream",
     "text": [
      "index_names: ['NDVI', 'NVR', 'SAVI', 'MTCI', 'ARVI', 'WDVI', 'NDWI', 'MNDWI', 'AWEI_sh', 'WI', 'NBR', 'BAI', 'AFI', 'SAVI', 'CCI', 'NDCI']\n"
     ]
    }
   ],
   "source": [
    "from Tesina_Indexs_Utils import VegetationIndex, WaterIndex, FireIndex, CloudIndex\n",
    "index_categories = {\n",
    "    'Vegetation': [VegetationIndex.NDVI, VegetationIndex.NVR, VegetationIndex.SAVI, VegetationIndex.MTCI, VegetationIndex.ARVI, VegetationIndex.WDVI],\n",
    "    'Water': [WaterIndex.NDWI, WaterIndex.MNDWI, WaterIndex.AWEI_sh, WaterIndex.WI],\n",
    "    'Fire': [FireIndex.NBR, FireIndex.BAI, FireIndex.AFI, FireIndex.SAVI],\n",
    "    'Cloud': [CloudIndex.CCI, CloudIndex.NDCI]\n",
    "}\n",
    "\n",
    "#index names from index_categories\n",
    "index_names = []\n",
    "for category in index_categories:\n",
    "    index_names.extend([member.name for member in index_categories[category]])\n",
    "\n",
    "# Imprime los nombres de los índices\n",
    "print(f\"index_names: {index_names}\")"
   ]
  },
  {
   "cell_type": "code",
   "execution_count": 50,
   "metadata": {},
   "outputs": [
    {
     "name": "stdout",
     "output_type": "stream",
     "text": [
      "[1.00000000e+00 3.44444444e+00 1.49855908e+00 1.59500000e+03\n",
      " 9.53333333e+00 7.95500000e+03 4.93670886e-01 7.23502304e-01\n",
      " 1.68392500e+04 9.47700000e+03 9.34108527e-01 5.90592941e-04\n",
      " 2.45467908e-01 1.49855908e+00 8.13643927e-01 1.00000000e+00]\n",
      "2492400\n"
     ]
    }
   ],
   "source": [
    "output_normalized, normalized_indices, min_global, max_global = calculate_and_normalize_indexs(output_normalized, index_names, selected_bands)"
   ]
  },
  {
   "cell_type": "code",
   "execution_count": 51,
   "metadata": {},
   "outputs": [],
   "source": [
    "from sklearn.preprocessing import LabelEncoder\n",
    "\n",
    "def encode_labels(output_data):\n",
    "    # Initialize the LabelEncoder\n",
    "    le = LabelEncoder()\n",
    "    \n",
    "    # Extract all labels and fit the LabelEncoder\n",
    "    labels = [entry['label'] for entry in output_data]\n",
    "    le.fit(labels)\n",
    "    \n",
    "    # Transform the labels and add them to the metadata\n",
    "    for entry in output_data:\n",
    "        entry['encoded_label'] = le.transform([entry['label']])[0]\n",
    "\n",
    "    return output_data, le.classes_\n",
    "\n",
    "# Now, the encode_labels function will add a new key 'encoded_label' to each entry in output_data.\n",
    "output_normalized, label_classes = encode_labels(output_normalized)\n"
   ]
  },
  {
   "cell_type": "code",
   "execution_count": 52,
   "metadata": {},
   "outputs": [
    {
     "name": "stdout",
     "output_type": "stream",
     "text": [
      "['Bosque' 'Nubes' 'Quemado' 'Talado']\n",
      "2\n"
     ]
    }
   ],
   "source": [
    "print (label_classes)\n",
    "print(output_normalized[5]['encoded_label'])\n",
    "selected_bands = list(selected_bands)"
   ]
  },
  {
   "cell_type": "code",
   "execution_count": 53,
   "metadata": {},
   "outputs": [
    {
     "name": "stdout",
     "output_type": "stream",
     "text": [
      "Number of samples: 2492400\n",
      "X_train_pixels: (1993920, 11)\n",
      "X_test_pixels: (498480, 11)\n",
      "X_train_indices: (1993920, 16)\n",
      "X_test_indices: (498480, 16)\n",
      "X_train_combined: (1993920, 27)\n",
      "X_test_combined: (498480, 27)\n",
      "y_train: (1993920,)\n",
      "y_test: (498480,)\n"
     ]
    }
   ],
   "source": [
    "from sklearn.model_selection import train_test_split\n",
    "stratify = True\n",
    "\n",
    "# Preparing the data\n",
    "normalized_pixels = []\n",
    "indices_normalized = []\n",
    "combined_pixels_indices = []\n",
    "labels = []\n",
    "\n",
    "for entry in output_normalized:\n",
    "    for pixel_values in entry['pixels_normalized']:\n",
    "        filtered_pixel = [pixel_values[selected_bands.index(band)] for band in selected_bands]\n",
    "        normalized_pixels.append(filtered_pixel)\n",
    "        labels.append(entry['encoded_label'])\n",
    "    for index in entry['normalized_index']:\n",
    "        indices_normalized.append(index)\n",
    "    for pixel_values, index_values in zip(entry['pixels_normalized'], entry['normalized_index']):\n",
    "        combined = [pixel_values[selected_bands.index(band)] for band in selected_bands] + index_values\n",
    "        combined_pixels_indices.append(combined)\n",
    "\n",
    "# Convert to NumPy arrays\n",
    "X_pixels_normalized = np.array(normalized_pixels)\n",
    "X_indices_normalized = np.array(indices_normalized)\n",
    "X_combined = np.array(combined_pixels_indices)\n",
    "y = np.array(labels)\n",
    "\n",
    "X_train_pixels = None\n",
    "X_test_pixels = None\n",
    "X_train_indices = None\n",
    "X_test_indices = None\n",
    "X_train_combined = None\n",
    "X_test_combined = None\n",
    "y_train = None\n",
    "y_test = None\n",
    "\n",
    "# Splitting the data for training and testing\n",
    "X_train_pixels, X_test_pixels, y_train, y_test = train_test_split(X_pixels_normalized, y, test_size=0.2, random_state=42)\n",
    "X_train_indices, X_test_indices, _, _ = train_test_split(X_indices_normalized, y, test_size=0.2, random_state=42)\n",
    "X_train_combined, X_test_combined, _, _ = train_test_split(X_combined, y, test_size=0.2, random_state=42)\n",
    "X_train_pixels_balanced, X_test_pixels_balanced, y_train_balanced, y_test_balanced = train_test_split(X_pixels_normalized, y, test_size=0.2, random_state=42, stratify=y)\n",
    "x_train_indices_balanced, x_test_indices_balanced, _, _ = train_test_split(X_indices_normalized, y, test_size=0.2, random_state=42, stratify=y)\n",
    "x_train_combined_balanced, x_test_combined_balanced, _, _ = train_test_split(X_combined, y, test_size=0.2, random_state=42, stratify=y)\n",
    "\n",
    "# Print the number of samples\n",
    "print(\"Number of samples:\", len(y))\n",
    "\n",
    "# Dictionary for easy access to the datasets\n",
    "datasets = {\n",
    "    \"normalized_pixels\": {\n",
    "        \"train\": X_train_pixels,\n",
    "        \"test\": X_test_pixels\n",
    "    },\n",
    "    \"normalized_indices\": {\n",
    "        \"train\": X_train_indices,\n",
    "        \"test\": X_test_indices\n",
    "    },\n",
    "    \"combined\": {\n",
    "        \"train\": X_train_combined,\n",
    "        \"test\": X_test_combined\n",
    "    }\n",
    "}\n",
    "\n",
    "datasets_balanced = {\n",
    "    \"normalized_pixels\": {\n",
    "        \"train\": X_train_pixels_balanced,\n",
    "        \"test\": X_test_pixels_balanced\n",
    "    },\n",
    "    \"normalized_indices\": {\n",
    "        \"train\": x_train_indices_balanced,\n",
    "        \"test\": x_test_indices_balanced\n",
    "    },\n",
    "    \"combined\": {\n",
    "        \"train\": x_train_combined_balanced,\n",
    "        \"test\": x_test_combined_balanced\n",
    "    }\n",
    "}\n",
    "\n",
    "#shape of the data\n",
    "print(f\"X_train_pixels: {X_train_pixels.shape}\")\n",
    "print(f\"X_test_pixels: {X_test_pixels.shape}\")\n",
    "print(f\"X_train_indices: {X_train_indices.shape}\")\n",
    "print(f\"X_test_indices: {X_test_indices.shape}\")\n",
    "print(f\"X_train_combined: {X_train_combined.shape}\")\n",
    "print(f\"X_test_combined: {X_test_combined.shape}\")\n",
    "print(f\"y_train: {y_train.shape}\")\n",
    "print(f\"y_test: {y_test.shape}\")"
   ]
  },
  {
   "cell_type": "code",
   "execution_count": null,
   "metadata": {},
   "outputs": [],
   "source": [
    "import pandas as pd\n",
    "import matplotlib.pyplot as plt\n",
    "import seaborn as sns\n",
    "\n",
    "def plot_results(results):\n",
    "    metrics = ['Precision', 'Recall', 'F1-Score', 'Overall Accuracy']\n",
    "    fig, axes = plt.subplots(nrows=2, ncols=2, figsize=(12, 12))  # Ajuste para un layout 2x2\n",
    "    axes = axes.flatten()\n",
    "\n",
    "    for i, metric in enumerate(metrics):\n",
    "        data_to_plot = []\n",
    "        for model in results:\n",
    "            for dataset in results[model]:\n",
    "                data_to_plot.append({\n",
    "                    'Model': model,\n",
    "                    'Dataset': dataset,\n",
    "                    'Metric': metric,\n",
    "                    'Score': results[model][dataset][metric]\n",
    "                })\n",
    "        sns.barplot(x='Model', y='Score', hue='Dataset', data=pd.DataFrame(data_to_plot), ax=axes[i])\n",
    "        axes[i].set_title(metric)\n",
    "        axes[i].set_ylim(0.95, 1.01)  # Ajustar los límites del eje Y para una mejor visualización\n",
    "\n",
    "        # Añadir los puntajes en las barras\n",
    "        for p in axes[i].patches:\n",
    "            axes[i].annotate(format(p.get_height(), '.4f'), \n",
    "                             (p.get_x() + p.get_width() / 2., p.get_height()),\n",
    "                             ha = 'center', va = 'center', \n",
    "                             xytext = (0, 9), \n",
    "                             textcoords = 'offset points')\n",
    "\n",
    "    plt.tight_layout()\n",
    "    plt.show()"
   ]
  },
  {
   "cell_type": "code",
   "execution_count": 56,
   "metadata": {},
   "outputs": [
    {
     "name": "stdout",
     "output_type": "stream",
     "text": [
      "Model: RandomForestClassifier, Dataset: normalized_pixels, Accuracy: 0.9980681271064035\n",
      "Model: RandomForestClassifier, Dataset: normalized_indices, Accuracy: 0.9969045899534585\n",
      "Model: RandomForestClassifier, Dataset: combined, Accuracy: 0.9976408281174771\n",
      "Model: KNeighborsClassifier, Dataset: normalized_pixels, Accuracy: 0.9957450649975926\n",
      "Model: KNeighborsClassifier, Dataset: normalized_indices, Accuracy: 0.9934199967902423\n"
     ]
    },
    {
     "ename": "KeyboardInterrupt",
     "evalue": "",
     "output_type": "error",
     "traceback": [
      "\u001b[0;31m---------------------------------------------------------------------------\u001b[0m",
      "\u001b[0;31mKeyboardInterrupt\u001b[0m                         Traceback (most recent call last)",
      "Cell \u001b[0;32mIn[56], line 32\u001b[0m\n\u001b[1;32m     30\u001b[0m results[model_name] \u001b[38;5;241m=\u001b[39m {}  \u001b[38;5;66;03m# Inicializa un sub-diccionario para el modelo\u001b[39;00m\n\u001b[1;32m     31\u001b[0m \u001b[38;5;28;01mfor\u001b[39;00m dataset_name, dataset \u001b[38;5;129;01min\u001b[39;00m datasets\u001b[38;5;241m.\u001b[39mitems():\n\u001b[0;32m---> 32\u001b[0m     report, accuracy \u001b[38;5;241m=\u001b[39m \u001b[43mtrain_and_evaluate_model\u001b[49m\u001b[43m(\u001b[49m\u001b[43mdataset\u001b[49m\u001b[43m[\u001b[49m\u001b[38;5;124;43m'\u001b[39;49m\u001b[38;5;124;43mtrain\u001b[39;49m\u001b[38;5;124;43m'\u001b[39;49m\u001b[43m]\u001b[49m\u001b[43m,\u001b[49m\u001b[43m \u001b[49m\u001b[43mdataset\u001b[49m\u001b[43m[\u001b[49m\u001b[38;5;124;43m'\u001b[39;49m\u001b[38;5;124;43mtest\u001b[39;49m\u001b[38;5;124;43m'\u001b[39;49m\u001b[43m]\u001b[49m\u001b[43m,\u001b[49m\u001b[43m \u001b[49m\u001b[43my_train\u001b[49m\u001b[43m,\u001b[49m\u001b[43m \u001b[49m\u001b[43my_test\u001b[49m\u001b[43m,\u001b[49m\u001b[43m \u001b[49m\u001b[43mmodel\u001b[49m\u001b[43m)\u001b[49m\n\u001b[1;32m     33\u001b[0m     results[model_name][dataset_name] \u001b[38;5;241m=\u001b[39m {\n\u001b[1;32m     34\u001b[0m         \u001b[38;5;124m'\u001b[39m\u001b[38;5;124mPrecision\u001b[39m\u001b[38;5;124m'\u001b[39m: report[\u001b[38;5;124m'\u001b[39m\u001b[38;5;124mweighted avg\u001b[39m\u001b[38;5;124m'\u001b[39m][\u001b[38;5;124m'\u001b[39m\u001b[38;5;124mprecision\u001b[39m\u001b[38;5;124m'\u001b[39m],\n\u001b[1;32m     35\u001b[0m         \u001b[38;5;124m'\u001b[39m\u001b[38;5;124mRecall\u001b[39m\u001b[38;5;124m'\u001b[39m: report[\u001b[38;5;124m'\u001b[39m\u001b[38;5;124mweighted avg\u001b[39m\u001b[38;5;124m'\u001b[39m][\u001b[38;5;124m'\u001b[39m\u001b[38;5;124mrecall\u001b[39m\u001b[38;5;124m'\u001b[39m],\n\u001b[1;32m     36\u001b[0m         \u001b[38;5;124m'\u001b[39m\u001b[38;5;124mF1-Score\u001b[39m\u001b[38;5;124m'\u001b[39m: report[\u001b[38;5;124m'\u001b[39m\u001b[38;5;124mweighted avg\u001b[39m\u001b[38;5;124m'\u001b[39m][\u001b[38;5;124m'\u001b[39m\u001b[38;5;124mf1-score\u001b[39m\u001b[38;5;124m'\u001b[39m],\n\u001b[1;32m     37\u001b[0m         \u001b[38;5;124m'\u001b[39m\u001b[38;5;124mOverall Accuracy\u001b[39m\u001b[38;5;124m'\u001b[39m: accuracy\n\u001b[1;32m     38\u001b[0m     }\n\u001b[1;32m     39\u001b[0m     \u001b[38;5;28mprint\u001b[39m(\u001b[38;5;124mf\u001b[39m\u001b[38;5;124m\"\u001b[39m\u001b[38;5;124mModel: \u001b[39m\u001b[38;5;132;01m{\u001b[39;00mmodel_name\u001b[38;5;132;01m}\u001b[39;00m\u001b[38;5;124m, Dataset: \u001b[39m\u001b[38;5;132;01m{\u001b[39;00mdataset_name\u001b[38;5;132;01m}\u001b[39;00m\u001b[38;5;124m, Accuracy: \u001b[39m\u001b[38;5;132;01m{\u001b[39;00maccuracy\u001b[38;5;132;01m}\u001b[39;00m\u001b[38;5;124m\"\u001b[39m)\n",
      "Cell \u001b[0;32mIn[56], line 12\u001b[0m, in \u001b[0;36mtrain_and_evaluate_model\u001b[0;34m(X_train, X_test, y_train, y_test, model)\u001b[0m\n\u001b[1;32m      9\u001b[0m model\u001b[38;5;241m.\u001b[39mfit(X_train, y_train)\n\u001b[1;32m     11\u001b[0m \u001b[38;5;66;03m# Predecir en el conjunto de prueba\u001b[39;00m\n\u001b[0;32m---> 12\u001b[0m y_pred \u001b[38;5;241m=\u001b[39m \u001b[43mmodel\u001b[49m\u001b[38;5;241;43m.\u001b[39;49m\u001b[43mpredict\u001b[49m\u001b[43m(\u001b[49m\u001b[43mX_test\u001b[49m\u001b[43m)\u001b[49m\n\u001b[1;32m     14\u001b[0m \u001b[38;5;66;03m# Calcular métricas\u001b[39;00m\n\u001b[1;32m     15\u001b[0m report \u001b[38;5;241m=\u001b[39m classification_report(y_test, y_pred, output_dict\u001b[38;5;241m=\u001b[39m\u001b[38;5;28;01mTrue\u001b[39;00m)\n",
      "File \u001b[0;32m~/Tesina_MACI_UDEC/.tesina_final/lib/python3.10/site-packages/sklearn/neighbors/_classification.py:254\u001b[0m, in \u001b[0;36mKNeighborsClassifier.predict\u001b[0;34m(self, X)\u001b[0m\n\u001b[1;32m    250\u001b[0m \u001b[38;5;28;01mif\u001b[39;00m \u001b[38;5;28mself\u001b[39m\u001b[38;5;241m.\u001b[39mweights \u001b[38;5;241m==\u001b[39m \u001b[38;5;124m\"\u001b[39m\u001b[38;5;124muniform\u001b[39m\u001b[38;5;124m\"\u001b[39m:\n\u001b[1;32m    251\u001b[0m     \u001b[38;5;28;01mif\u001b[39;00m \u001b[38;5;28mself\u001b[39m\u001b[38;5;241m.\u001b[39m_fit_method \u001b[38;5;241m==\u001b[39m \u001b[38;5;124m\"\u001b[39m\u001b[38;5;124mbrute\u001b[39m\u001b[38;5;124m\"\u001b[39m \u001b[38;5;129;01mand\u001b[39;00m ArgKminClassMode\u001b[38;5;241m.\u001b[39mis_usable_for(\n\u001b[1;32m    252\u001b[0m         X, \u001b[38;5;28mself\u001b[39m\u001b[38;5;241m.\u001b[39m_fit_X, \u001b[38;5;28mself\u001b[39m\u001b[38;5;241m.\u001b[39mmetric\n\u001b[1;32m    253\u001b[0m     ):\n\u001b[0;32m--> 254\u001b[0m         probabilities \u001b[38;5;241m=\u001b[39m \u001b[38;5;28;43mself\u001b[39;49m\u001b[38;5;241;43m.\u001b[39;49m\u001b[43mpredict_proba\u001b[49m\u001b[43m(\u001b[49m\u001b[43mX\u001b[49m\u001b[43m)\u001b[49m\n\u001b[1;32m    255\u001b[0m         \u001b[38;5;28;01mif\u001b[39;00m \u001b[38;5;28mself\u001b[39m\u001b[38;5;241m.\u001b[39moutputs_2d_:\n\u001b[1;32m    256\u001b[0m             \u001b[38;5;28;01mreturn\u001b[39;00m np\u001b[38;5;241m.\u001b[39mstack(\n\u001b[1;32m    257\u001b[0m                 [\n\u001b[1;32m    258\u001b[0m                     \u001b[38;5;28mself\u001b[39m\u001b[38;5;241m.\u001b[39mclasses_[idx][np\u001b[38;5;241m.\u001b[39margmax(probas, axis\u001b[38;5;241m=\u001b[39m\u001b[38;5;241m1\u001b[39m)]\n\u001b[0;32m   (...)\u001b[0m\n\u001b[1;32m    261\u001b[0m                 axis\u001b[38;5;241m=\u001b[39m\u001b[38;5;241m1\u001b[39m,\n\u001b[1;32m    262\u001b[0m             )\n",
      "File \u001b[0;32m~/Tesina_MACI_UDEC/.tesina_final/lib/python3.10/site-packages/sklearn/neighbors/_classification.py:355\u001b[0m, in \u001b[0;36mKNeighborsClassifier.predict_proba\u001b[0;34m(self, X)\u001b[0m\n\u001b[1;32m    351\u001b[0m         \u001b[38;5;28;01mreturn\u001b[39;00m probabilities\n\u001b[1;32m    353\u001b[0m     \u001b[38;5;66;03m# In that case, we do not need the distances to perform\u001b[39;00m\n\u001b[1;32m    354\u001b[0m     \u001b[38;5;66;03m# the weighting so we do not compute them.\u001b[39;00m\n\u001b[0;32m--> 355\u001b[0m     neigh_ind \u001b[38;5;241m=\u001b[39m \u001b[38;5;28;43mself\u001b[39;49m\u001b[38;5;241;43m.\u001b[39;49m\u001b[43mkneighbors\u001b[49m\u001b[43m(\u001b[49m\u001b[43mX\u001b[49m\u001b[43m,\u001b[49m\u001b[43m \u001b[49m\u001b[43mreturn_distance\u001b[49m\u001b[38;5;241;43m=\u001b[39;49m\u001b[38;5;28;43;01mFalse\u001b[39;49;00m\u001b[43m)\u001b[49m\n\u001b[1;32m    356\u001b[0m     neigh_dist \u001b[38;5;241m=\u001b[39m \u001b[38;5;28;01mNone\u001b[39;00m\n\u001b[1;32m    357\u001b[0m \u001b[38;5;28;01melse\u001b[39;00m:\n",
      "File \u001b[0;32m~/Tesina_MACI_UDEC/.tesina_final/lib/python3.10/site-packages/sklearn/neighbors/_base.py:822\u001b[0m, in \u001b[0;36mKNeighborsMixin.kneighbors\u001b[0;34m(self, X, n_neighbors, return_distance)\u001b[0m\n\u001b[1;32m    815\u001b[0m use_pairwise_distances_reductions \u001b[38;5;241m=\u001b[39m (\n\u001b[1;32m    816\u001b[0m     \u001b[38;5;28mself\u001b[39m\u001b[38;5;241m.\u001b[39m_fit_method \u001b[38;5;241m==\u001b[39m \u001b[38;5;124m\"\u001b[39m\u001b[38;5;124mbrute\u001b[39m\u001b[38;5;124m\"\u001b[39m\n\u001b[1;32m    817\u001b[0m     \u001b[38;5;129;01mand\u001b[39;00m ArgKmin\u001b[38;5;241m.\u001b[39mis_usable_for(\n\u001b[1;32m    818\u001b[0m         X \u001b[38;5;28;01mif\u001b[39;00m X \u001b[38;5;129;01mis\u001b[39;00m \u001b[38;5;129;01mnot\u001b[39;00m \u001b[38;5;28;01mNone\u001b[39;00m \u001b[38;5;28;01melse\u001b[39;00m \u001b[38;5;28mself\u001b[39m\u001b[38;5;241m.\u001b[39m_fit_X, \u001b[38;5;28mself\u001b[39m\u001b[38;5;241m.\u001b[39m_fit_X, \u001b[38;5;28mself\u001b[39m\u001b[38;5;241m.\u001b[39meffective_metric_\n\u001b[1;32m    819\u001b[0m     )\n\u001b[1;32m    820\u001b[0m )\n\u001b[1;32m    821\u001b[0m \u001b[38;5;28;01mif\u001b[39;00m use_pairwise_distances_reductions:\n\u001b[0;32m--> 822\u001b[0m     results \u001b[38;5;241m=\u001b[39m \u001b[43mArgKmin\u001b[49m\u001b[38;5;241;43m.\u001b[39;49m\u001b[43mcompute\u001b[49m\u001b[43m(\u001b[49m\n\u001b[1;32m    823\u001b[0m \u001b[43m        \u001b[49m\u001b[43mX\u001b[49m\u001b[38;5;241;43m=\u001b[39;49m\u001b[43mX\u001b[49m\u001b[43m,\u001b[49m\n\u001b[1;32m    824\u001b[0m \u001b[43m        \u001b[49m\u001b[43mY\u001b[49m\u001b[38;5;241;43m=\u001b[39;49m\u001b[38;5;28;43mself\u001b[39;49m\u001b[38;5;241;43m.\u001b[39;49m\u001b[43m_fit_X\u001b[49m\u001b[43m,\u001b[49m\n\u001b[1;32m    825\u001b[0m \u001b[43m        \u001b[49m\u001b[43mk\u001b[49m\u001b[38;5;241;43m=\u001b[39;49m\u001b[43mn_neighbors\u001b[49m\u001b[43m,\u001b[49m\n\u001b[1;32m    826\u001b[0m \u001b[43m        \u001b[49m\u001b[43mmetric\u001b[49m\u001b[38;5;241;43m=\u001b[39;49m\u001b[38;5;28;43mself\u001b[39;49m\u001b[38;5;241;43m.\u001b[39;49m\u001b[43meffective_metric_\u001b[49m\u001b[43m,\u001b[49m\n\u001b[1;32m    827\u001b[0m \u001b[43m        \u001b[49m\u001b[43mmetric_kwargs\u001b[49m\u001b[38;5;241;43m=\u001b[39;49m\u001b[38;5;28;43mself\u001b[39;49m\u001b[38;5;241;43m.\u001b[39;49m\u001b[43meffective_metric_params_\u001b[49m\u001b[43m,\u001b[49m\n\u001b[1;32m    828\u001b[0m \u001b[43m        \u001b[49m\u001b[43mstrategy\u001b[49m\u001b[38;5;241;43m=\u001b[39;49m\u001b[38;5;124;43m\"\u001b[39;49m\u001b[38;5;124;43mauto\u001b[39;49m\u001b[38;5;124;43m\"\u001b[39;49m\u001b[43m,\u001b[49m\n\u001b[1;32m    829\u001b[0m \u001b[43m        \u001b[49m\u001b[43mreturn_distance\u001b[49m\u001b[38;5;241;43m=\u001b[39;49m\u001b[43mreturn_distance\u001b[49m\u001b[43m,\u001b[49m\n\u001b[1;32m    830\u001b[0m \u001b[43m    \u001b[49m\u001b[43m)\u001b[49m\n\u001b[1;32m    832\u001b[0m \u001b[38;5;28;01melif\u001b[39;00m (\n\u001b[1;32m    833\u001b[0m     \u001b[38;5;28mself\u001b[39m\u001b[38;5;241m.\u001b[39m_fit_method \u001b[38;5;241m==\u001b[39m \u001b[38;5;124m\"\u001b[39m\u001b[38;5;124mbrute\u001b[39m\u001b[38;5;124m\"\u001b[39m \u001b[38;5;129;01mand\u001b[39;00m \u001b[38;5;28mself\u001b[39m\u001b[38;5;241m.\u001b[39mmetric \u001b[38;5;241m==\u001b[39m \u001b[38;5;124m\"\u001b[39m\u001b[38;5;124mprecomputed\u001b[39m\u001b[38;5;124m\"\u001b[39m \u001b[38;5;129;01mand\u001b[39;00m issparse(X)\n\u001b[1;32m    834\u001b[0m ):\n\u001b[1;32m    835\u001b[0m     results \u001b[38;5;241m=\u001b[39m _kneighbors_from_graph(\n\u001b[1;32m    836\u001b[0m         X, n_neighbors\u001b[38;5;241m=\u001b[39mn_neighbors, return_distance\u001b[38;5;241m=\u001b[39mreturn_distance\n\u001b[1;32m    837\u001b[0m     )\n",
      "File \u001b[0;32m~/Tesina_MACI_UDEC/.tesina_final/lib/python3.10/site-packages/sklearn/metrics/_pairwise_distances_reduction/_dispatcher.py:259\u001b[0m, in \u001b[0;36mArgKmin.compute\u001b[0;34m(cls, X, Y, k, metric, chunk_size, metric_kwargs, strategy, return_distance)\u001b[0m\n\u001b[1;32m    178\u001b[0m \u001b[38;5;250m\u001b[39m\u001b[38;5;124;03m\"\"\"Compute the argkmin reduction.\u001b[39;00m\n\u001b[1;32m    179\u001b[0m \n\u001b[1;32m    180\u001b[0m \u001b[38;5;124;03mParameters\u001b[39;00m\n\u001b[0;32m   (...)\u001b[0m\n\u001b[1;32m    256\u001b[0m \u001b[38;5;124;03mreturns.\u001b[39;00m\n\u001b[1;32m    257\u001b[0m \u001b[38;5;124;03m\"\"\"\u001b[39;00m\n\u001b[1;32m    258\u001b[0m \u001b[38;5;28;01mif\u001b[39;00m X\u001b[38;5;241m.\u001b[39mdtype \u001b[38;5;241m==\u001b[39m Y\u001b[38;5;241m.\u001b[39mdtype \u001b[38;5;241m==\u001b[39m np\u001b[38;5;241m.\u001b[39mfloat64:\n\u001b[0;32m--> 259\u001b[0m     \u001b[38;5;28;01mreturn\u001b[39;00m \u001b[43mArgKmin64\u001b[49m\u001b[38;5;241;43m.\u001b[39;49m\u001b[43mcompute\u001b[49m\u001b[43m(\u001b[49m\n\u001b[1;32m    260\u001b[0m \u001b[43m        \u001b[49m\u001b[43mX\u001b[49m\u001b[38;5;241;43m=\u001b[39;49m\u001b[43mX\u001b[49m\u001b[43m,\u001b[49m\n\u001b[1;32m    261\u001b[0m \u001b[43m        \u001b[49m\u001b[43mY\u001b[49m\u001b[38;5;241;43m=\u001b[39;49m\u001b[43mY\u001b[49m\u001b[43m,\u001b[49m\n\u001b[1;32m    262\u001b[0m \u001b[43m        \u001b[49m\u001b[43mk\u001b[49m\u001b[38;5;241;43m=\u001b[39;49m\u001b[43mk\u001b[49m\u001b[43m,\u001b[49m\n\u001b[1;32m    263\u001b[0m \u001b[43m        \u001b[49m\u001b[43mmetric\u001b[49m\u001b[38;5;241;43m=\u001b[39;49m\u001b[43mmetric\u001b[49m\u001b[43m,\u001b[49m\n\u001b[1;32m    264\u001b[0m \u001b[43m        \u001b[49m\u001b[43mchunk_size\u001b[49m\u001b[38;5;241;43m=\u001b[39;49m\u001b[43mchunk_size\u001b[49m\u001b[43m,\u001b[49m\n\u001b[1;32m    265\u001b[0m \u001b[43m        \u001b[49m\u001b[43mmetric_kwargs\u001b[49m\u001b[38;5;241;43m=\u001b[39;49m\u001b[43mmetric_kwargs\u001b[49m\u001b[43m,\u001b[49m\n\u001b[1;32m    266\u001b[0m \u001b[43m        \u001b[49m\u001b[43mstrategy\u001b[49m\u001b[38;5;241;43m=\u001b[39;49m\u001b[43mstrategy\u001b[49m\u001b[43m,\u001b[49m\n\u001b[1;32m    267\u001b[0m \u001b[43m        \u001b[49m\u001b[43mreturn_distance\u001b[49m\u001b[38;5;241;43m=\u001b[39;49m\u001b[43mreturn_distance\u001b[49m\u001b[43m,\u001b[49m\n\u001b[1;32m    268\u001b[0m \u001b[43m    \u001b[49m\u001b[43m)\u001b[49m\n\u001b[1;32m    270\u001b[0m \u001b[38;5;28;01mif\u001b[39;00m X\u001b[38;5;241m.\u001b[39mdtype \u001b[38;5;241m==\u001b[39m Y\u001b[38;5;241m.\u001b[39mdtype \u001b[38;5;241m==\u001b[39m np\u001b[38;5;241m.\u001b[39mfloat32:\n\u001b[1;32m    271\u001b[0m     \u001b[38;5;28;01mreturn\u001b[39;00m ArgKmin32\u001b[38;5;241m.\u001b[39mcompute(\n\u001b[1;32m    272\u001b[0m         X\u001b[38;5;241m=\u001b[39mX,\n\u001b[1;32m    273\u001b[0m         Y\u001b[38;5;241m=\u001b[39mY,\n\u001b[0;32m   (...)\u001b[0m\n\u001b[1;32m    279\u001b[0m         return_distance\u001b[38;5;241m=\u001b[39mreturn_distance,\n\u001b[1;32m    280\u001b[0m     )\n",
      "File \u001b[0;32msklearn/metrics/_pairwise_distances_reduction/_argkmin.pyx:90\u001b[0m, in \u001b[0;36msklearn.metrics._pairwise_distances_reduction._argkmin.ArgKmin64.compute\u001b[0;34m()\u001b[0m\n",
      "File \u001b[0;32m~/Tesina_MACI_UDEC/.tesina_final/lib/python3.10/site-packages/threadpoolctl.py:440\u001b[0m, in \u001b[0;36m_ThreadpoolLimiter.__exit__\u001b[0;34m(self, type, value, traceback)\u001b[0m\n\u001b[1;32m    437\u001b[0m \u001b[38;5;28;01mdef\u001b[39;00m \u001b[38;5;21m__enter__\u001b[39m(\u001b[38;5;28mself\u001b[39m):\n\u001b[1;32m    438\u001b[0m     \u001b[38;5;28;01mreturn\u001b[39;00m \u001b[38;5;28mself\u001b[39m\n\u001b[0;32m--> 440\u001b[0m \u001b[38;5;28;01mdef\u001b[39;00m \u001b[38;5;21m__exit__\u001b[39m(\u001b[38;5;28mself\u001b[39m, \u001b[38;5;28mtype\u001b[39m, value, traceback):\n\u001b[1;32m    441\u001b[0m     \u001b[38;5;28mself\u001b[39m\u001b[38;5;241m.\u001b[39mrestore_original_limits()\n\u001b[1;32m    443\u001b[0m \u001b[38;5;129m@classmethod\u001b[39m\n\u001b[1;32m    444\u001b[0m \u001b[38;5;28;01mdef\u001b[39;00m \u001b[38;5;21mwrap\u001b[39m(\u001b[38;5;28mcls\u001b[39m, controller, \u001b[38;5;241m*\u001b[39m, limits\u001b[38;5;241m=\u001b[39m\u001b[38;5;28;01mNone\u001b[39;00m, user_api\u001b[38;5;241m=\u001b[39m\u001b[38;5;28;01mNone\u001b[39;00m):\n",
      "\u001b[0;31mKeyboardInterrupt\u001b[0m: "
     ]
    }
   ],
   "source": [
    "from sklearn.ensemble import RandomForestClassifier\n",
    "from sklearn.neighbors import KNeighborsClassifier\n",
    "from sklearn.metrics import classification_report, accuracy_score\n",
    "import matplotlib.pyplot as plt\n",
    "import seaborn as sns\n",
    "\n",
    "def train_and_evaluate_model(X_train, X_test, y_train, y_test, model):\n",
    "    # Entrenar el modelo\n",
    "    model.fit(X_train, y_train)\n",
    "\n",
    "    # Predecir en el conjunto de prueba\n",
    "    y_pred = model.predict(X_test)\n",
    "\n",
    "    # Calcular métricas\n",
    "    report = classification_report(y_test, y_pred, output_dict=True)\n",
    "    accuracy = accuracy_score(y_test, y_pred)\n",
    "\n",
    "    return report, accuracy\n",
    "\n",
    "# Diccionario para almacenar los resultados\n",
    "results = {}\n",
    "\n",
    "# Lista de modelos a entrenar\n",
    "models = [RandomForestClassifier(n_jobs=-1), KNeighborsClassifier()]\n",
    "\n",
    "\n",
    "# Entrenar y evaluar modelos en los tres conjuntos de datos\n",
    "for model in models:\n",
    "    model_name = type(model).__name__\n",
    "    results[model_name] = {}  # Inicializa un sub-diccionario para el modelo\n",
    "    for dataset_name, dataset in datasets.items():\n",
    "        report, accuracy = train_and_evaluate_model(dataset['train'], dataset['test'], y_train, y_test, model)\n",
    "        results[model_name][dataset_name] = {\n",
    "            'Precision': report['weighted avg']['precision'],\n",
    "            'Recall': report['weighted avg']['recall'],\n",
    "            'F1-Score': report['weighted avg']['f1-score'],\n",
    "            'Overall Accuracy': accuracy\n",
    "        }\n",
    "        print(f\"Model: {model_name}, Dataset: {dataset_name}, Accuracy: {accuracy}\")"
   ]
  },
  {
   "cell_type": "code",
   "execution_count": null,
   "metadata": {},
   "outputs": [
    {
     "ename": "NameError",
     "evalue": "name 'X_train_indices' is not defined",
     "output_type": "error",
     "traceback": [
      "\u001b[0;31m---------------------------------------------------------------------------\u001b[0m",
      "\u001b[0;31mNameError\u001b[0m                                 Traceback (most recent call last)",
      "Cell \u001b[0;32mIn[23], line 2\u001b[0m\n\u001b[1;32m      1\u001b[0m \u001b[38;5;28;01mimport\u001b[39;00m \u001b[38;5;21;01mgc\u001b[39;00m\n\u001b[0;32m----> 2\u001b[0m \u001b[38;5;28;01mdel\u001b[39;00m X_train_indices, X_test_indices, X_train_combined, X_test_combined\n\u001b[1;32m      3\u001b[0m \u001b[38;5;28;01mdel\u001b[39;00m normalized_pixels, indices_normalized, combined_pixels_indices\n\u001b[1;32m      4\u001b[0m gc\u001b[38;5;241m.\u001b[39mcollect()\n",
      "\u001b[0;31mNameError\u001b[0m: name 'X_train_indices' is not defined"
     ]
    }
   ],
   "source": [
    "plot_results(results)"
   ]
  },
  {
   "cell_type": "code",
   "execution_count": null,
   "metadata": {},
   "outputs": [],
   "source": [
    "\n",
    "from sklearn.ensemble import RandomForestClassifier\n",
    "from imblearn.ensemble import BalancedRandomForestClassifier\n",
    "from sklearn.metrics import classification_report, accuracy_score\n",
    "import matplotlib.pyplot as plt\n",
    "import seaborn as sns\n",
    "\n",
    "# Define the models\n",
    "# Standard RandomForest model\n",
    "rf_model = RandomForestClassifier(random_state=42, n_jobs=-1)\n",
    "\n",
    "# BalancedRandomForest model\n",
    "brf_model = BalancedRandomForestClassifier(random_state=42, n_jobs=-1)\n",
    "\n",
    "# RandomForest model with class weight balancing\n",
    "weighted_rf_model = RandomForestClassifier(class_weight='balanced', random_state=42, n_jobs=-1)\n",
    "\n",
    "models = {\n",
    "    \"RandomForest\": rf_model,\n",
    "    \"Balanced RandomForest\": brf_model,\n",
    "    \"Weighted RandomForest\": weighted_rf_model\n",
    "}\n",
    "\n",
    "# Function to train and evaluate each model\n",
    "def train_and_evaluate_model(X_train, X_test, y_train, y_test, model):\n",
    "    # Train the model\n",
    "    model.fit(X_train, y_train)\n",
    "\n",
    "    # Predict on the test set\n",
    "    y_pred = model.predict(X_test)\n",
    "\n",
    "    # Calculate metrics\n",
    "    report = classification_report(y_test, y_pred, output_dict=True)\n",
    "    accuracy = accuracy_score(y_test, y_pred)\n",
    "\n",
    "    return report, accuracy\n",
    "\n",
    "# Dictionary to store the results\n",
    "results = {}\n",
    "\n",
    "# Train and evaluate each model\n",
    "for model_name, model in models.items():\n",
    "    print(f\"Training {model_name}...\")\n",
    "    report, accuracy = train_and_evaluate_model(X_train_pixels, X_test_pixels, y_train, y_test, model)\n",
    "    balance_type = 'Balanced' if 'Balanced' in model_name else 'Unbalanced'\n",
    "    results[model_name] = {balance_type: {\n",
    "        'Precision': report['weighted avg']['precision'],\n",
    "        'Recall': report['weighted avg']['recall'],\n",
    "        'F1-Score': report['weighted avg']['f1-score'],\n",
    "        'Overall Accuracy': accuracy\n",
    "    }}\n",
    "\n",
    "# Print the results\n",
    "for model_name, balance_types in results.items():\n",
    "    for balance_type, metrics in balance_types.items():\n",
    "        print(f\"\\nResults for {model_name} ({balance_type}):\")\n",
    "        for metric, value in metrics.items():\n",
    "            print(f\"{metric}: {value:.4f}\")\n",
    "\n",
    "# plot_results already defined\n",
    "plot_results(results)\n"
   ]
  },
  {
   "cell_type": "code",
   "execution_count": null,
   "metadata": {},
   "outputs": [],
   "source": [
    "plot_results(results)"
   ]
  },
  {
   "cell_type": "code",
   "execution_count": null,
   "metadata": {},
   "outputs": [
    {
     "name": "stdout",
     "output_type": "stream",
     "text": [
      "Model: RandomForestClassifier, Dataset: unbalanced, Accuracy: 0.9980821697961804\n",
      "Model: RandomForestClassifier, Dataset: balanced, Accuracy: 0.998202535708554\n",
      "Model: KNeighborsClassifier, Dataset: unbalanced, Accuracy: 0.9957450649975926\n",
      "Model: KNeighborsClassifier, Dataset: balanced, Accuracy: 0.996505376344086\n"
     ]
    }
   ],
   "source": [
    "from sklearn.ensemble import RandomForestClassifier\n",
    "from sklearn.neighbors import KNeighborsClassifier\n",
    "from sklearn.metrics import classification_report, accuracy_score\n",
    "\n",
    "import gc\n",
    "\n",
    "del X_train_indices, X_test_indices, X_train_combined, X_test_combined\n",
    "del normalized_pixels, indices_normalized, combined_pixels_indices\n",
    "gc.collect()\n",
    "\n",
    "def train_and_evaluate_model(X_train, X_test, y_train, y_test, model):\n",
    "    # Train the model\n",
    "    model.fit(X_train, y_train)\n",
    "\n",
    "    # Predict on the test set\n",
    "    y_pred = model.predict(X_test)\n",
    "\n",
    "    # Calculate metrics\n",
    "    report = classification_report(y_test, y_pred, output_dict=True)\n",
    "    accuracy = accuracy_score(y_test, y_pred)\n",
    "\n",
    "    # Free up memory\n",
    "    del X_train, y_train, y_pred\n",
    "    gc.collect()\n",
    "\n",
    "    return report, accuracy\n",
    "\n",
    "# Dictionary to store the results\n",
    "results = {}\n",
    "\n",
    "# List of models to be trained\n",
    "models = [RandomForestClassifier(n_jobs=-1), KNeighborsClassifier()]\n",
    "\n",
    "# Datasets (both balanced and unbalanced)\n",
    "datasets = {\n",
    "    \"unbalanced\": {\n",
    "        \"train\": X_train_pixels,\n",
    "        \"test\": X_test_pixels\n",
    "    },\n",
    "    \"balanced\": {\n",
    "        \"train\": X_train_balanced,\n",
    "        \"test\": X_test_pixels  # Note: Test set remains the same for both\n",
    "    }\n",
    "}\n",
    "\n",
    "# Train and evaluate models on both datasets\n",
    "for model in models:\n",
    "    model_name = type(model).__name__\n",
    "    results[model_name] = {}  # Initialize a sub-dictionary for the model\n",
    "    for balance_type, dataset in datasets.items():\n",
    "        report, accuracy = train_and_evaluate_model(dataset['train'], dataset['test'], y_train if balance_type == 'unbalanced' else y_train_balanced, y_test, model)\n",
    "        results[model_name][f\"{balance_type} dataset\"] = {\n",
    "            'Precision': report['weighted avg']['precision'],\n",
    "            'Recall': report['weighted avg']['recall'],\n",
    "            'F1-Score': report['weighted avg']['f1-score'],\n",
    "            'Overall Accuracy': accuracy\n",
    "        }\n",
    "        print(f\"Model: {model_name}, Dataset: {balance_type}, Accuracy: {accuracy}\")\n"
   ]
  },
  {
   "cell_type": "code",
   "execution_count": null,
   "metadata": {},
   "outputs": [],
   "source": [
    "print(results)"
   ]
  },
  {
   "cell_type": "code",
   "execution_count": null,
   "metadata": {},
   "outputs": [
    {
     "data": {
      "image/png": "[encoded data removed]",
      "text/plain": [
       "<Figure size 1200x1200 with 4 Axes>"
      ]
     },
     "metadata": {},
     "output_type": "display_data"
    }
   ],
   "source": [
    "plot_results(results)"
   ]
  },
  {
   "cell_type": "code",
   "execution_count": null,
   "metadata": {},
   "outputs": [
    {
     "name": "stdout",
     "output_type": "stream",
     "text": [
      "Random Forest - Precisión en CV: [0.99752748 0.99779831 0.99781586 0.99775317 0.99762277]\n",
      "Random Forest - Precisión Media en CV: 0.9977035186968383\n"
     ]
    }
   ],
   "source": [
    "from sklearn.model_selection import cross_val_score\n",
    "\n",
    "rf_model = RandomForestClassifier(n_jobs=-1)\n",
    "rf_scores = cross_val_score(rf_model, X_train_pixels, y_train, cv=5)\n",
    "print(\"Random Forest - Precisión en CV:\", rf_scores)\n",
    "print(\"Random Forest - Precisión Media en CV:\", rf_scores.mean())"
   ]
  },
  {
   "cell_type": "code",
   "execution_count": null,
   "metadata": {},
   "outputs": [
    {
     "name": "stdout",
     "output_type": "stream",
     "text": [
      "KNN - Precisión en CV: [0.99525558 0.99547625 0.99553142 0.99550885 0.9954612 ]\n",
      "KNN - Precisión Media en CV: 0.995446657839833\n"
     ]
    }
   ],
   "source": [
    "knn_model = KNeighborsClassifier()\n",
    "knn_scores = cross_val_score(knn_model, X_train_pixels, y_train, cv=5)\n",
    "print(\"KNN - Precisión en CV:\", knn_scores)\n",
    "print(\"KNN - Precisión Media en CV:\", knn_scores.mean())"
   ]
  },
  {
   "cell_type": "code",
   "execution_count": null,
   "metadata": {},
   "outputs": [],
   "source": [
    "from joblib import dump\n",
    "import os\n",
    "from Tesina_General_Utils import make_dir \n",
    "\n",
    "def save_model(model, base_filename, output_path, min_vals=None, max_vals=None, label_classes=None):\n",
    "    \"\"\"\n",
    "    Saves a scikit-learn model to a file.\n",
    "\n",
    "    :param model: Trained model to be saved.\n",
    "    :param base_filename: Base filename for saving the model.\n",
    "    :param output_path: Directory path where the model file will be saved.\n",
    "    \"\"\"\n",
    "    # Ensure the output directory exists\n",
    "    model_dir = make_dir([output_path])\n",
    "    model_filename = os.path.join(model_dir, f\"{base_filename}_model.joblib\")\n",
    "\n",
    "    model_data = {\n",
    "        'model': model,\n",
    "        'min_vals': min_vals,\n",
    "        'max_vals': max_vals,\n",
    "        'label_classes': label_classes\n",
    "    }\n",
    "    # Save the model\n",
    "    dump(model_data, model_filename)\n",
    "    print(f\"Model saved to: {model_filename}\")"
   ]
  },
  {
   "cell_type": "code",
   "execution_count": null,
   "metadata": {},
   "outputs": [],
   "source": [
    "import json\n",
    "from datetime import datetime\n",
    "import numpy as np\n",
    "import sklearn\n",
    "import sys\n",
    "from sklearn.metrics import classification_report, roc_auc_score\n",
    "from sklearn.model_selection import cross_val_score\n",
    "from pprint import pprint\n",
    "\n",
    "def save_model_metadata_and_analysis(model, X_train, y_train, X_test, y_test, feature_names, base_filename, output_path, print_info=False):\n",
    "    \"\"\"\n",
    "    Saves metadata and quality analysis of a model to a JSON file.\n",
    "\n",
    "    :param model: Trained model.\n",
    "    :param X_train: Training data.\n",
    "    :param y_train: Training labels.\n",
    "    :param X_test: Testing data.\n",
    "    :param y_test: Testing labels.\n",
    "    :param feature_names: Names of the features.\n",
    "    :param base_filename: Base filename for saving the metadata and analysis.\n",
    "    :param output_path: Directory path where the metadata file will be saved.\n",
    "    \"\"\"\n",
    "\n",
    "    \n",
    "    metadata = {\n",
    "        'date': datetime.now().strftime(\"%Y-%m-%d %H:%M:%S\"),\n",
    "        'model_type': type(model).__name__,\n",
    "        'model_parameters': model.get_params(),\n",
    "        'python_version': sys.version,\n",
    "        'sklearn_version': sklearn.__version__,\n",
    "        'feature_names': feature_names,\n",
    "        'class_labels': np.unique(y_test).tolist(),\n",
    "        'dataset_size': {'train': len(X_train), 'test': len(X_test)}\n",
    "    }\n",
    "\n",
    "    # Model analysis\n",
    "    metadata['training_score'] = model.score(X_train, y_train)\n",
    "    metadata['test_score'] = model.score(X_test, y_test)\n",
    "    predictions = model.predict(X_test)\n",
    "    metadata['classification_report'] = classification_report(y_test, predictions, output_dict=True)\n",
    "\n",
    "    # AUC and ROC curve (if applicable)\n",
    "    if hasattr(model, \"predict_proba\"):\n",
    "        proba_predictions = model.predict_proba(X_test)\n",
    "        metadata['roc_auc_score'] = roc_auc_score(y_test, proba_predictions, multi_class='ovr')\n",
    "\n",
    "    # Feature importances (if applicable)\n",
    "    if hasattr(model, \"feature_importances_\"):\n",
    "        metadata['feature_importances'] = dict(zip(feature_names, model.feature_importances_))\n",
    "\n",
    "    # Cross-validation scores\n",
    "    # Aquí puedes ajustar los parámetros de cv y scoring según tus necesidades\n",
    "    metadata['cross_validation_scores'] = cross_val_score(model, X_train, y_train, cv=5).tolist()\n",
    "    \n",
    "    # Print information if required\n",
    "    if print_info:\n",
    "        pprint(metadata)\n",
    "\n",
    "    if base_filename:\n",
    "        metadata_dir = make_dir([output_path])\n",
    "        metadata_filename = os.path.join(metadata_dir, f\"{base_filename}_metadata.json\")\n",
    "        with open(metadata_filename, 'w') as file:\n",
    "            json.dump(metadata, file, indent=4)\n",
    "        print(f\"Metadata and model analysis saved to: {metadata_filename}\")"
   ]
  },
  {
   "cell_type": "code",
   "execution_count": null,
   "metadata": {},
   "outputs": [],
   "source": [
    "model_name ='random_forest_pixels_4_labels'\n",
    "save_model(rf_model, model_name, 'data/output/models/', min_vals=min_global, max_vals=max_global, label_classes=label_classes)\n",
    "save_model_metadata_and_analysis(rf_model, X_train_pixels, y_train, X_test_pixels, y_test, selected_bands, model_name, 'data/output/models/', print_info=True)"
   ]
  },
  {
   "cell_type": "code",
   "execution_count": null,
   "metadata": {},
   "outputs": [],
   "source": [
    "model_name ='knn_pixels_4_labels'\n",
    "save_model(knn_model, model_name, 'data/output/models/', min_vals=min_global, max_vals=max_global, label_classes=label_classes)\n",
    "save_model_metadata_and_analysis(knn_model, X_train_pixels, y_train, X_test_pixels, y_test, selected_bands, model_name, 'data/output/models/', print_info=True)"
   ]
  },
  {
   "cell_type": "code",
   "execution_count": null,
   "metadata": {},
   "outputs": [],
   "source": [
    "from sklearn.metrics import confusion_matrix, classification_report\n",
    "\n",
    "cloud_label_encoded = 1\n",
    "\n",
    "# Filtrar los datos\n",
    "mask = y_train != cloud_label_encoded\n",
    "X_train_pixels_no_clouds = X_train_pixels[mask]\n",
    "y_train_no_clouds = y_train[mask]\n",
    "\n",
    "# Entrenar el modelo sin la etiqueta 'Nubes'\n",
    "rf_model_no_clouds = RandomForestClassifier(n_jobs=-1)\n",
    "rf_model_no_clouds.fit(X_train_pixels_no_clouds, y_train_no_clouds)\n",
    "\n",
    "# Filtrar el conjunto de prueba y predecir\n",
    "mask_test = y_test != cloud_label_encoded\n",
    "X_test_pixels_no_clouds = X_test_pixels[mask_test]\n",
    "y_test_no_clouds = y_test[mask_test]\n",
    "y_pred_no_clouds = rf_model_no_clouds.predict(X_test_pixels_no_clouds)\n",
    "conf_matrix_no_clouds = confusion_matrix(y_test[mask_test], y_pred_no_clouds)\n"
   ]
  },
  {
   "cell_type": "code",
   "execution_count": null,
   "metadata": {},
   "outputs": [
    {
     "ename": "KeyError",
     "evalue": "'RandomForestClassifier'",
     "output_type": "error",
     "traceback": [
      "\u001b[0;31m---------------------------------------------------------------------------\u001b[0m",
      "\u001b[0;31mKeyError\u001b[0m                                  Traceback (most recent call last)",
      "\u001b[1;32m/home/jvl/tesis/Train_model.ipynb Cell 21\u001b[0m line \u001b[0;36m3\n\u001b[1;32m     <a href='vscode-notebook-cell://wsl%2Bubuntu-22.04/home/jvl/tesis/Train_model.ipynb#X26sdnNjb2RlLXJlbW90ZQ%3D%3D?line=31'>32</a>\u001b[0m \u001b[39m# Comparar modelos\u001b[39;00m\n\u001b[1;32m     <a href='vscode-notebook-cell://wsl%2Bubuntu-22.04/home/jvl/tesis/Train_model.ipynb#X26sdnNjb2RlLXJlbW90ZQ%3D%3D?line=32'>33</a>\u001b[0m models \u001b[39m=\u001b[39m [RandomForestClassifier(n_jobs\u001b[39m=\u001b[39m\u001b[39m-\u001b[39m\u001b[39m1\u001b[39m), KNeighborsClassifier()]\n\u001b[0;32m---> <a href='vscode-notebook-cell://wsl%2Bubuntu-22.04/home/jvl/tesis/Train_model.ipynb#X26sdnNjb2RlLXJlbW90ZQ%3D%3D?line=33'>34</a>\u001b[0m results \u001b[39m=\u001b[39m compare_models_and_plot(models, X_train_pixels, y_train)\n\u001b[1;32m     <a href='vscode-notebook-cell://wsl%2Bubuntu-22.04/home/jvl/tesis/Train_model.ipynb#X26sdnNjb2RlLXJlbW90ZQ%3D%3D?line=34'>35</a>\u001b[0m \u001b[39mprint\u001b[39m(results)\n",
      "\u001b[1;32m/home/jvl/tesis/Train_model.ipynb Cell 21\u001b[0m line \u001b[0;36m1\n\u001b[1;32m     <a href='vscode-notebook-cell://wsl%2Bubuntu-22.04/home/jvl/tesis/Train_model.ipynb#X26sdnNjb2RlLXJlbW90ZQ%3D%3D?line=15'>16</a>\u001b[0m     scores \u001b[39m=\u001b[39m cross_val_score(model, X_train, y_train, cv\u001b[39m=\u001b[39m\u001b[39m5\u001b[39m)\n\u001b[1;32m     <a href='vscode-notebook-cell://wsl%2Bubuntu-22.04/home/jvl/tesis/Train_model.ipynb#X26sdnNjb2RlLXJlbW90ZQ%3D%3D?line=16'>17</a>\u001b[0m     results[model_name] \u001b[39m=\u001b[39m scores\u001b[39m.\u001b[39mmean()\n\u001b[0;32m---> <a href='vscode-notebook-cell://wsl%2Bubuntu-22.04/home/jvl/tesis/Train_model.ipynb#X26sdnNjb2RlLXJlbW90ZQ%3D%3D?line=17'>18</a>\u001b[0m     precisions[model_name]\u001b[39m.\u001b[39mextend(scores)\n\u001b[1;32m     <a href='vscode-notebook-cell://wsl%2Bubuntu-22.04/home/jvl/tesis/Train_model.ipynb#X26sdnNjb2RlLXJlbW90ZQ%3D%3D?line=19'>20</a>\u001b[0m \u001b[39m# Crear un DataFrame para el gráfico\u001b[39;00m\n\u001b[1;32m     <a href='vscode-notebook-cell://wsl%2Bubuntu-22.04/home/jvl/tesis/Train_model.ipynb#X26sdnNjb2RlLXJlbW90ZQ%3D%3D?line=20'>21</a>\u001b[0m df \u001b[39m=\u001b[39m pd\u001b[39m.\u001b[39mDataFrame(precisions)\n",
      "\u001b[0;31mKeyError\u001b[0m: 'RandomForestClassifier'"
     ]
    }
   ],
   "source": [
    "import pandas as pd\n",
    "import matplotlib.pyplot as plt\n",
    "import seaborn as sns\n",
    "from sklearn.model_selection import cross_val_score\n",
    "from sklearn.ensemble import RandomForestClassifier\n",
    "from sklearn.neighbors import KNeighborsClassifier\n",
    "\n",
    "\n",
    "# Comparación entre modelos y generación del gráfico\n",
    "def compare_models_and_plot(models, X_train, y_train):\n",
    "    results = {}\n",
    "    precisions = {}\n",
    "\n",
    "    for model in models:\n",
    "        model_name = type(model).__name__\n",
    "        scores = cross_val_score(model, X_train, y_train, cv=5)\n",
    "        results[model_name] = scores.mean()\n",
    "        precisions[model_name] = scores \n",
    "\n",
    "    # Crear un DataFrame para el gráfico\n",
    "    df = pd.DataFrame(precisions)\n",
    "\n",
    "    # Crear un gráfico de caja\n",
    "    plt.figure(figsize=(8, 6))\n",
    "    sns.boxplot(data=df)\n",
    "    plt.title('Distribución de la Precisión en la Validación Cruzada')\n",
    "    plt.ylabel('Precisión')\n",
    "    plt.show()\n",
    "\n",
    "    return results\n",
    "\n",
    "# Comparar modelos\n",
    "models = [RandomForestClassifier(n_jobs=-1), KNeighborsClassifier()]\n",
    "results = compare_models_and_plot(models, X_train_pixels, y_train)\n",
    "print(results)\n",
    "\n"
   ]
  },
  {
   "cell_type": "code",
   "execution_count": null,
   "metadata": {},
   "outputs": [],
   "source": [
    "from sklearn.ensemble import RandomForestClassifier\n",
    "from sklearn.metrics import confusion_matrix, classification_report\n",
    "import seaborn as sns\n",
    "import matplotlib.pyplot as plt\n",
    "\n",
    "# Train with all labels\n",
    "rf_model_all = RandomForestClassifier(n_jobs=-1)\n",
    "rf_model_all.fit(X_train_pixels, y_train)\n",
    "\n",
    "# Predict on the test set\n",
    "y_pred_all = rf_model_all.predict(X_test_pixels)\n"
   ]
  },
  {
   "cell_type": "code",
   "execution_count": null,
   "metadata": {},
   "outputs": [],
   "source": [
    "cloud_label_encoded = 1\n",
    "\n",
    "# Filtrar los datos\n",
    "mask = y_train != cloud_label_encoded\n",
    "X_train_pixels_no_clouds = X_train_pixels[mask]\n",
    "y_train_no_clouds = y_train[mask]\n",
    "\n",
    "# Entrenar el modelo sin la etiqueta 'Nubes'\n",
    "rf_model_no_clouds = RandomForestClassifier(n_jobs=-1)\n",
    "rf_model_no_clouds.fit(X_train_pixels_no_clouds, y_train_no_clouds)\n",
    "\n",
    "# Filtrar el conjunto de prueba y predecir\n",
    "mask_test = y_test != cloud_label_encoded\n",
    "X_test_pixels_no_clouds = X_test_pixels[mask_test]\n",
    "y_test_no_clouds = y_test[mask_test]\n",
    "y_pred_no_clouds = rf_model_no_clouds.predict(X_test_pixels_no_clouds)\n",
    "conf_matrix_no_clouds = confusion_matrix(y_test[mask_test], y_pred_no_clouds)\n"
   ]
  },
  {
   "cell_type": "code",
   "execution_count": null,
   "metadata": {},
   "outputs": [
    {
     "name": "stdout",
     "output_type": "stream",
     "text": [
      "Reporte de Clasificación - Todas las Etiquetas:\n",
      "               precision    recall  f1-score   support\n",
      "\n",
      "           0       1.00      1.00      1.00    110075\n",
      "           1       1.00      1.00      1.00    308613\n",
      "           2       0.99      1.00      1.00     63349\n",
      "           3       0.99      0.98      0.98     16443\n",
      "\n",
      "    accuracy                           1.00    498480\n",
      "   macro avg       1.00      0.99      0.99    498480\n",
      "weighted avg       1.00      1.00      1.00    498480\n",
      "\n",
      "Reporte de Clasificación - Sin Nubes:\n",
      "               precision    recall  f1-score   support\n",
      "\n",
      "           0       1.00      1.00      1.00    110075\n",
      "           2       0.99      1.00      1.00     63349\n",
      "           3       0.99      0.98      0.98     16443\n",
      "\n",
      "    accuracy                           1.00    189867\n",
      "   macro avg       0.99      0.99      0.99    189867\n",
      "weighted avg       1.00      1.00      1.00    189867\n",
      "\n",
      "Exactitud del modelo con todas las etiquetas: 0.9980059380516771\n",
      "Exactitud del modelo sin 'Nubes': 0.9965502167306588\n"
     ]
    }
   ],
   "source": [
    "print(\"Reporte de Clasificación - Todas las Etiquetas:\\n\", classification_report(y_test, y_pred_all))\n",
    "print(\"Reporte de Clasificación - Sin Nubes:\\n\", classification_report(y_test_no_clouds, y_pred_no_clouds))\n",
    "\n",
    "from sklearn.metrics import accuracy_score\n",
    "\n",
    "# Exactitud para el modelo con todas las etiquetas (rf_model_all)\n",
    "accuracy_model_all = accuracy_score(y_test, rf_model_all.predict(X_test_pixels))\n",
    "\n",
    "# Exactitud para el modelo sin 'Nubes' (rf_model_no_clouds)\n",
    "# Asegúrate de usar el conjunto de prueba ajustado que excluye 'Nubes'\n",
    "accuracy_model_no_clouds = accuracy_score(y_test_no_clouds, rf_model_no_clouds.predict(X_test_pixels_no_clouds))\n",
    "\n",
    "print(f\"Exactitud del modelo con todas las etiquetas: {accuracy_model_all}\")\n",
    "print(f\"Exactitud del modelo sin 'Nubes': {accuracy_model_no_clouds}\")\n"
   ]
  },
  {
   "cell_type": "code",
   "execution_count": null,
   "metadata": {},
   "outputs": [],
   "source": [
    "# Predicción con el modelo entrenado con todas las etiquetas\n",
    "y_pred_all_no_clouds = rf_model_all.predict(X_test_pixels_no_clouds)\n",
    "\n",
    "# Matriz de confusión para el modelo entrenado con todas las etiquetas\n",
    "conf_matrix_all_no_clouds = confusion_matrix(y_test_no_clouds, y_pred_all_no_clouds)\n",
    "\n",
    "# Matriz de confusión para el modelo entrenado sin 'Nubes'\n",
    "conf_matrix_no_clouds = confusion_matrix(y_test_no_clouds, y_pred_no_clouds)\n"
   ]
  },
  {
   "cell_type": "code",
   "execution_count": null,
   "metadata": {},
   "outputs": [
    {
     "data": {
      "image/png": "[encoded data removed]",
      "text/plain": [
       "<Figure size 640x480 with 2 Axes>"
      ]
     },
     "metadata": {},
     "output_type": "display_data"
    },
    {
     "data": {
      "image/png": "[encoded data removed]",
      "text/plain": [
       "<Figure size 640x480 with 2 Axes>"
      ]
     },
     "metadata": {},
     "output_type": "display_data"
    }
   ],
   "source": [
    "# Matriz de Confusión - Modelo con Todas las Etiquetas\n",
    "sns.heatmap(conf_matrix_all_no_clouds, annot=True, fmt='d', cmap='Blues')\n",
    "plt.title('Matriz de Confusión - Modelo con Todas las Etiquetas')\n",
    "plt.ylabel('True Label')\n",
    "plt.xlabel('Predicted Label')\n",
    "plt.show()\n",
    "\n",
    "# Matriz de Confusión - Modelo sin 'Nubes'\n",
    "sns.heatmap(conf_matrix_no_clouds, annot=True, fmt='d', cmap='Blues')\n",
    "plt.title('Matriz de Confusión - Solo Bosques, Quemado y Talado')\n",
    "plt.ylabel('True Label')\n",
    "plt.xlabel('Predicted Label')\n",
    "plt.show()\n"
   ]
  },
  {
   "cell_type": "code",
   "execution_count": null,
   "metadata": {},
   "outputs": [
    {
     "name": "stderr",
     "output_type": "stream",
     "text": [
      "/home/jvl/tesis/.venv/lib/python3.10/site-packages/sklearn/metrics/_classification.py:1469: UndefinedMetricWarning: Recall is ill-defined and being set to 0.0 in labels with no true samples. Use `zero_division` parameter to control this behavior.\n",
      "  _warn_prf(average, modifier, msg_start, len(result))\n"
     ]
    },
    {
     "name": "stdout",
     "output_type": "stream",
     "text": [
      "Modelo con todas las etiquetas - Accuracy: 0.9961710039132656, Recall: 0.7431069623205729, F1: 0.7446706178188713\n",
      "Modelo sin 'Nubes' - Accuracy: 0.9965502167306588, Recall: 0.9911397136007342, F1: 0.9929455996677695\n"
     ]
    },
    {
     "data": {
      "image/png": "[encoded data removed]",
      "text/plain": [
       "<Figure size 800x600 with 2 Axes>"
      ]
     },
     "metadata": {},
     "output_type": "display_data"
    },
    {
     "data": {
      "image/png": "[encoded data removed]",
      "text/plain": [
       "<Figure size 800x600 with 2 Axes>"
      ]
     },
     "metadata": {},
     "output_type": "display_data"
    }
   ],
   "source": [
    "from sklearn.metrics import accuracy_score, recall_score, f1_score, confusion_matrix\n",
    "import seaborn as sns\n",
    "import matplotlib.pyplot as plt\n",
    "\n",
    "# Evaluar el modelo entrenado con todas las etiquetas\n",
    "y_pred_all_no_clouds = rf_model_all.predict(X_test_pixels_no_clouds)\n",
    "accuracy_all = accuracy_score(y_test_no_clouds, y_pred_all_no_clouds)\n",
    "recall_all = recall_score(y_test_no_clouds, y_pred_all_no_clouds, average='macro')\n",
    "f1_all = f1_score(y_test_no_clouds, y_pred_all_no_clouds, average='macro')\n",
    "\n",
    "# Evaluar el modelo entrenado sin 'Nubes'\n",
    "y_pred_no_clouds = rf_model_no_clouds.predict(X_test_pixels_no_clouds)\n",
    "accuracy_no_clouds = accuracy_score(y_test_no_clouds, y_pred_no_clouds)\n",
    "recall_no_clouds = recall_score(y_test_no_clouds, y_pred_no_clouds, average='macro')\n",
    "f1_no_clouds = f1_score(y_test_no_clouds, y_pred_no_clouds, average='macro')\n",
    "\n",
    "# Imprimir las métricas\n",
    "print(f\"Modelo con todas las etiquetas - Accuracy: {accuracy_all}, Recall: {recall_all}, F1: {f1_all}\")\n",
    "print(f\"Modelo sin 'Nubes' - Accuracy: {accuracy_no_clouds}, Recall: {recall_no_clouds}, F1: {f1_no_clouds}\")\n",
    "\n",
    "# Matrices de confusión\n",
    "adjusted_labels = [label for label in label_classes if label != 'Nubes']\n",
    "\n",
    "# Matriz de Confusión - Modelo con Todas las Etiquetas\n",
    "conf_matrix_all_no_clouds = confusion_matrix(y_test_no_clouds, y_pred_all_no_clouds)\n",
    "plt.figure(figsize=(8, 6))\n",
    "sns.heatmap(conf_matrix_all_no_clouds, annot=True, fmt='d', xticklabels=adjusted_labels, yticklabels=adjusted_labels)\n",
    "plt.title('Confusion Matrix - Model with All Labels')\n",
    "plt.ylabel('True Label')\n",
    "plt.xlabel('Predicted Label')\n",
    "plt.show()\n",
    "\n",
    "# Matriz de Confusión - Modelo sin 'Nubes'\n",
    "conf_matrix_no_clouds = confusion_matrix(y_test_no_clouds, y_pred_no_clouds)\n",
    "plt.figure(figsize=(8, 6))\n",
    "sns.heatmap(conf_matrix_no_clouds, annot=True, fmt='d', xticklabels=adjusted_labels, yticklabels=adjusted_labels)\n",
    "plt.title('Confusion Matrix - Model without Clouds')\n",
    "plt.ylabel('True Label')\n",
    "plt.xlabel('Predicted Label')\n",
    "plt.show()\n",
    "\n",
    "\n"
   ]
  },
  {
   "cell_type": "code",
   "execution_count": null,
   "metadata": {},
   "outputs": [
    {
     "name": "stdout",
     "output_type": "stream",
     "text": [
      "Tiempo de predicción (Modelo con todas las etiquetas): 0.47452616691589355 segundos\n",
      "Tiempo de predicción (Modelo sin 'Nubes'): 0.3936636447906494 segundos\n"
     ]
    },
    {
     "ename": "",
     "evalue": "",
     "output_type": "error",
     "traceback": [
      "\u001b[1;31mThe Kernel crashed while executing code in the the current cell or a previous cell. Please review the code in the cell(s) to identify a possible cause of the failure. Click <a href='https://aka.ms/vscodeJupyterKernelCrash'>here</a> for more info. View Jupyter <a href='command:jupyter.viewOutput'>log</a> for further details."
     ]
    }
   ],
   "source": [
    "import time\n",
    "# Tiempo de predicción para el modelo con todas las etiquetas\n",
    "start_time = time.time()\n",
    "y_pred_all_no_clouds = rf_model_all.predict(X_test_pixels_no_clouds)\n",
    "end_time = time.time()\n",
    "time_pred_all = end_time - start_time\n",
    "print(f\"Tiempo de predicción (Modelo con todas las etiquetas): {time_pred_all} segundos\")\n",
    "\n",
    "# Tiempo de predicción para el modelo sin 'Nubes'\n",
    "start_time = time.time()\n",
    "y_pred_no_clouds = rf_model_no_clouds.predict(X_test_pixels_no_clouds)\n",
    "end_time = time.time()\n",
    "time_pred_no_clouds = end_time - start_time\n",
    "print(f\"Tiempo de predicción (Modelo sin 'Nubes'): {time_pred_no_clouds} segundos\")\n"
   ]
  },
  {
   "cell_type": "code",
   "execution_count": null,
   "metadata": {},
   "outputs": [
    {
     "data": {
      "text/html": [
       "<style>#sk-container-id-1 {color: black;}#sk-container-id-1 pre{padding: 0;}#sk-container-id-1 div.sk-toggleable {background-color: white;}#sk-container-id-1 label.sk-toggleable__label {cursor: pointer;display: block;width: 100%;margin-bottom: 0;padding: 0.3em;box-sizing: border-box;text-align: center;}#sk-container-id-1 label.sk-toggleable__label-arrow:before {content: \"▸\";float: left;margin-right: 0.25em;color: #696969;}#sk-container-id-1 label.sk-toggleable__label-arrow:hover:before {color: black;}#sk-container-id-1 div.sk-estimator:hover label.sk-toggleable__label-arrow:before {color: black;}#sk-container-id-1 div.sk-toggleable__content {max-height: 0;max-width: 0;overflow: hidden;text-align: left;background-color: #f0f8ff;}#sk-container-id-1 div.sk-toggleable__content pre {margin: 0.2em;color: black;border-radius: 0.25em;background-color: #f0f8ff;}#sk-container-id-1 input.sk-toggleable__control:checked~div.sk-toggleable__content {max-height: 200px;max-width: 100%;overflow: auto;}#sk-container-id-1 input.sk-toggleable__control:checked~label.sk-toggleable__label-arrow:before {content: \"▾\";}#sk-container-id-1 div.sk-estimator input.sk-toggleable__control:checked~label.sk-toggleable__label {background-color: #d4ebff;}#sk-container-id-1 div.sk-label input.sk-toggleable__control:checked~label.sk-toggleable__label {background-color: #d4ebff;}#sk-container-id-1 input.sk-hidden--visually {border: 0;clip: rect(1px 1px 1px 1px);clip: rect(1px, 1px, 1px, 1px);height: 1px;margin: -1px;overflow: hidden;padding: 0;position: absolute;width: 1px;}#sk-container-id-1 div.sk-estimator {font-family: monospace;background-color: #f0f8ff;border: 1px dotted black;border-radius: 0.25em;box-sizing: border-box;margin-bottom: 0.5em;}#sk-container-id-1 div.sk-estimator:hover {background-color: #d4ebff;}#sk-container-id-1 div.sk-parallel-item::after {content: \"\";width: 100%;border-bottom: 1px solid gray;flex-grow: 1;}#sk-container-id-1 div.sk-label:hover label.sk-toggleable__label {background-color: #d4ebff;}#sk-container-id-1 div.sk-serial::before {content: \"\";position: absolute;border-left: 1px solid gray;box-sizing: border-box;top: 0;bottom: 0;left: 50%;z-index: 0;}#sk-container-id-1 div.sk-serial {display: flex;flex-direction: column;align-items: center;background-color: white;padding-right: 0.2em;padding-left: 0.2em;position: relative;}#sk-container-id-1 div.sk-item {position: relative;z-index: 1;}#sk-container-id-1 div.sk-parallel {display: flex;align-items: stretch;justify-content: center;background-color: white;position: relative;}#sk-container-id-1 div.sk-item::before, #sk-container-id-1 div.sk-parallel-item::before {content: \"\";position: absolute;border-left: 1px solid gray;box-sizing: border-box;top: 0;bottom: 0;left: 50%;z-index: -1;}#sk-container-id-1 div.sk-parallel-item {display: flex;flex-direction: column;z-index: 1;position: relative;background-color: white;}#sk-container-id-1 div.sk-parallel-item:first-child::after {align-self: flex-end;width: 50%;}#sk-container-id-1 div.sk-parallel-item:last-child::after {align-self: flex-start;width: 50%;}#sk-container-id-1 div.sk-parallel-item:only-child::after {width: 0;}#sk-container-id-1 div.sk-dashed-wrapped {border: 1px dashed gray;margin: 0 0.4em 0.5em 0.4em;box-sizing: border-box;padding-bottom: 0.4em;background-color: white;}#sk-container-id-1 div.sk-label label {font-family: monospace;font-weight: bold;display: inline-block;line-height: 1.2em;}#sk-container-id-1 div.sk-label-container {text-align: center;}#sk-container-id-1 div.sk-container {/* jupyter's `normalize.less` sets `[hidden] { display: none; }` but bootstrap.min.css set `[hidden] { display: none !important; }` so we also need the `!important` here to be able to override the default hidden behavior on the sphinx rendered scikit-learn.org. See: https://github.com/scikit-learn/scikit-learn/issues/21755 */display: inline-block !important;position: relative;}#sk-container-id-1 div.sk-text-repr-fallback {display: none;}</style><div id=\"sk-container-id-1\" class=\"sk-top-container\"><div class=\"sk-text-repr-fallback\"><pre>RandomForestClassifier(n_jobs=-1)</pre><b>In a Jupyter environment, please rerun this cell to show the HTML representation or trust the notebook. <br />On GitHub, the HTML representation is unable to render, please try loading this page with nbviewer.org.</b></div><div class=\"sk-container\" hidden><div class=\"sk-item\"><div class=\"sk-estimator sk-toggleable\"><input class=\"sk-toggleable__control sk-hidden--visually\" id=\"sk-estimator-id-1\" type=\"checkbox\" checked><label for=\"sk-estimator-id-1\" class=\"sk-toggleable__label sk-toggleable__label-arrow\">RandomForestClassifier</label><div class=\"sk-toggleable__content\"><pre>RandomForestClassifier(n_jobs=-1)</pre></div></div></div></div></div>"
      ],
      "text/plain": [
       "RandomForestClassifier(n_jobs=-1)"
      ]
     },
     "execution_count": 24,
     "metadata": {},
     "output_type": "execute_result"
    }
   ],
   "source": [
    "# Preparing data without clouds\n",
    "normalized_pixels_non_cloud = []\n",
    "indices_normalized_non_cloud = []\n",
    "combined_pixels_indices_non_cloud = []\n",
    "labels_non_cloud = []\n",
    "\n",
    "for entry in non_cloud_data:\n",
    "    for pixel_values in entry['pixels_normalized']:\n",
    "        filtered_pixel = [pixel_values[selected_bands.index(band)] for band in selected_bands]\n",
    "        normalized_pixels_non_cloud.append(filtered_pixel)\n",
    "        labels_non_cloud.append(entry['encoded_label'])\n",
    "    for index in entry['normalized_index']:\n",
    "        indices_normalized_non_cloud.append(index)\n",
    "    for pixel_values, index_values in zip(entry['pixels_normalized'], entry['normalized_index']):\n",
    "        combined = [pixel_values[selected_bands.index(band)] for band in selected_bands] + index_values\n",
    "        combined_pixels_indices_non_cloud.append(combined)\n",
    "\n",
    "# Convert to NumPy arrays\n",
    "X_pixels_normalized_non_cloud = np.array(normalized_pixels_non_cloud)\n",
    "X_indices_normalized_non_cloud = np.array(indices_normalized_non_cloud)\n",
    "X_combined_non_cloud = np.array(combined_pixels_indices_non_cloud)\n",
    "y_non_cloud = np.array(labels_non_cloud)\n",
    "\n",
    "# Splitting data for training and testing\n",
    "X_train_pixels_nc, X_test_pixels_nc, y_train_nc, y_test_nc = train_test_split(X_pixels_normalized_non_cloud, y_non_cloud, test_size=0.2, random_state=42)\n",
    "X_train_indices_nc, X_test_indices_nc, _, _ = train_test_split(X_indices_normalized_non_cloud, y_non_cloud, test_size=0.2, random_state=42)\n",
    "X_train_combined_nc, X_test_combined_nc, _, _ = train_test_split(X_combined_non_cloud, y_non_cloud, test_size=0.2, random_state=42)\n",
    "\n",
    "\n",
    "#shape of the data\n",
    "print(f\"X_train_pixels: {X_train_pixels_nc.shape}\")\n",
    "print(f\"X_test_pixels: {X_test_pixels_nc.shape}\")\n",
    "print(f\"X_train_indices: {X_train_indices_nc.shape}\")\n",
    "print(f\"X_test_indices: {X_test_indices_nc.shape}\")\n",
    "print(f\"X_train_combined: {X_train_combined_nc.shape}\")\n",
    "print(f\"X_test_combined: {X_test_combined_nc.shape}\")\n",
    "print(f\"y_train: {y_train_nc.shape}\")\n",
    "print(f\"y_test: {y_test_nc.shape}\")\n"
   ]
  },
  {
   "cell_type": "code",
   "execution_count": null,
   "metadata": {},
   "outputs": [],
   "source": [
    "# Train and evaluate models on three data sets without clouds\n",
    "results_non_cloud = {}\n",
    "\n",
    "for model in models:\n",
    "    model_name = type(model).__name__\n",
    "    results_non_cloud[model_name] = {}  # Initialize a sub-dictionary for the model\n",
    "    datasets_non_cloud = {\n",
    "        \"normalized_pixels\": {\n",
    "            \"train\": X_train_pixels_nc,\n",
    "            \"test\": X_test_pixels_nc\n",
    "        },\n",
    "        \"normalized_indices\": {\n",
    "            \"train\": X_train_indices_nc,\n",
    "            \"test\": X_test_indices_nc\n",
    "        },\n",
    "        \"combined\": {\n",
    "            \"train\": X_train_combined_nc,\n",
    "            \"test\": X_test_combined_nc\n",
    "        }\n",
    "    }\n",
    "    for dataset_name, dataset in datasets_non_cloud.items():\n",
    "        report, accuracy = train_and_evaluate_model(dataset['train'], dataset['test'], y_train_nc, y_test_nc, model)\n",
    "        results_non_cloud[model_name][dataset_name] = {\n",
    "            'Precision': report['weighted avg']['precision'],\n",
    "            'Recall': report['weighted avg']['recall'],\n",
    "            'F1-Score': report['weighted avg']['f1-score'],\n",
    "            'Overall Accuracy': accuracy\n",
    "        }\n",
    "        print(f\"Model: {model_name}, Dataset: {dataset_name}, Accuracy: {accuracy}\")\n"
   ]
  },
  {
   "cell_type": "code",
   "execution_count": null,
   "metadata": {},
   "outputs": [],
   "source": [
    "# Compare results\n",
    "print(\"Results with clouds included:\")\n",
    "plot_results(results)  # Using the plot_results function from before\n",
    "\n",
    "print(\"Results without clouds:\")\n",
    "plot_results(results_non_cloud)\n"
   ]
  },
  {
   "cell_type": "code",
   "execution_count": null,
   "metadata": {},
   "outputs": [],
   "source": []
  },
  {
   "cell_type": "code",
   "execution_count": null,
   "metadata": {},
   "outputs": [],
   "source": []
  },
  {
   "cell_type": "code",
   "execution_count": null,
   "metadata": {},
   "outputs": [
    {
     "name": "stdout",
     "output_type": "stream",
     "text": [
      "Model saved to: data/output/models/random_forest_model.joblib\n",
      "{'class_labels': [0, 1, 2, 3],\n",
      " 'classification_report': {'0': {'f1-score': 0.9975813733987375,\n",
      "                                 'precision': 0.9965729206331937,\n",
      "                                 'recall': 0.9985918691801045,\n",
      "                                 'support': 110075.0},\n",
      "                           '1': {'f1-score': 0.9994263025686736,\n",
      "                                 'precision': 0.9997114483670896,\n",
      "                                 'recall': 0.9991413193870641,\n",
      "                                 'support': 308613.0},\n",
      "                           '2': {'f1-score': 0.9955947136563877,\n",
      "                                 'precision': 0.9940671031096563,\n",
      "                                 'recall': 0.9971270264723989,\n",
      "                                 'support': 63349.0},\n",
      "                           '3': {'f1-score': 0.9838867785810562,\n",
      "                                 'precision': 0.9912351089438923,\n",
      "                                 'recall': 0.9766465973362525,\n",
      "                                 'support': 16443.0},\n",
      "                           'accuracy': 0.9980219868399935,\n",
      "                           'macro avg': {'f1-score': 0.9941222920512137,\n",
      "                                         'precision': 0.995396645263458,\n",
      "                                         'recall': 0.992876703093955,\n",
      "                                         'support': 498480.0},\n",
      "                           'weighted avg': {'f1-score': 0.9980193769200748,\n",
      "                                            'precision': 0.9980214838406143,\n",
      "                                            'recall': 0.9980219868399935,\n",
      "                                            'support': 498480.0}},\n",
      " 'cross_validation_scores': [0.9975249759268175,\n",
      "                             0.9977431391429947,\n",
      "                             0.9977732306210881,\n",
      "                             0.9978208754614026,\n",
      "                             0.9976127427379233],\n",
      " 'dataset_size': {'test': 498480, 'train': 1993920},\n",
      " 'date': '2023-11-19 20:17:30',\n",
      " 'feature_importances': {'blue': 0.21469066598713257,\n",
      "                         'green': 0.1508317643324125,\n",
      "                         'nir': 0.012403843810853044,\n",
      "                         'nir08': 0.032330862511298734,\n",
      "                         'nir09': 0.1423113468045588,\n",
      "                         'red': 0.15096678855033102,\n",
      "                         'rededge1': 0.0920872817322051,\n",
      "                         'rededge2': 0.0677160750412705,\n",
      "                         'rededge3': 0.05197795786166678,\n",
      "                         'swir16': 0.03558770354657433,\n",
      "                         'swir22': 0.049095709821696636},\n",
      " 'feature_names': ['blue',\n",
      "                   'green',\n",
      "                   'red',\n",
      "                   'nir',\n",
      "                   'nir08',\n",
      "                   'nir09',\n",
      "                   'rededge1',\n",
      "                   'rededge2',\n",
      "                   'rededge3',\n",
      "                   'swir16',\n",
      "                   'swir22',\n",
      "                   'NDVI',\n",
      "                   'NVR',\n",
      "                   'SAVI',\n",
      "                   'MTCI',\n",
      "                   'ARVI',\n",
      "                   'WDVI'],\n",
      " 'model_parameters': {'bootstrap': True,\n",
      "                      'ccp_alpha': 0.0,\n",
      "                      'class_weight': None,\n",
      "                      'criterion': 'gini',\n",
      "                      'max_depth': None,\n",
      "                      'max_features': 'sqrt',\n",
      "                      'max_leaf_nodes': None,\n",
      "                      'max_samples': None,\n",
      "                      'min_impurity_decrease': 0.0,\n",
      "                      'min_samples_leaf': 1,\n",
      "                      'min_samples_split': 2,\n",
      "                      'min_weight_fraction_leaf': 0.0,\n",
      "                      'n_estimators': 100,\n",
      "                      'n_jobs': -1,\n",
      "                      'oob_score': False,\n",
      "                      'random_state': None,\n",
      "                      'verbose': 0,\n",
      "                      'warm_start': False},\n",
      " 'model_type': 'RandomForestClassifier',\n",
      " 'python_version': '3.10.12 (main, Jun 11 2023, 05:26:28) [GCC 11.4.0]',\n",
      " 'roc_auc_score': 0.9999091190110173,\n",
      " 'sklearn_version': '1.3.0',\n",
      " 'test_score': 0.9980219868399935,\n",
      " 'training_score': 0.9999974923768256}\n",
      "Metadata and model analysis saved to: data/output/models/random_forest_metadata.json\n"
     ]
    }
   ],
   "source": [
    "model_name = 'random_forest'\n",
    "save_model(rf_model, model_name, 'data/output/models/', min_vals=min_global, max_vals=max_global, label_classes=label_classes)\n",
    "save_model_metadata_and_analysis(rf_model, X_train, y_train, X_test, y_test, x_names, model_name, 'data/output/models/', print_info=True)"
   ]
  },
  {
   "cell_type": "code",
   "execution_count": null,
   "metadata": {},
   "outputs": [],
   "source": [
    "from sklearn.feature_selection import SelectFromModel\n",
    "feature_selector = SelectFromModel(rf_model, threshold=-np.inf, prefit=True)\n"
   ]
  },
  {
   "cell_type": "code",
   "execution_count": null,
   "metadata": {},
   "outputs": [
    {
     "name": "stdout",
     "output_type": "stream",
     "text": [
      "              precision    recall  f1-score   support\n",
      "\n",
      "      Bosque       1.00      1.00      1.00    110075\n",
      "       Nubes       1.00      1.00      1.00    308613\n",
      "     Quemado       0.99      1.00      1.00     63349\n",
      "      Talado       0.99      0.98      0.98     16443\n",
      "\n",
      "    accuracy                           1.00    498480\n",
      "   macro avg       1.00      0.99      0.99    498480\n",
      "weighted avg       1.00      1.00      1.00    498480\n",
      "\n",
      "Accuracy: 0.998052078318087\n",
      "Características más importantes:\n",
      "blue: 0.19346516579727446\n",
      "red: 0.16845536716196285\n",
      "green: 0.16343033771070578\n",
      "nir09: 0.1267514015146926\n",
      "rededge1: 0.08490453495899053\n",
      "swir22: 0.07193643095197158\n",
      "rededge2: 0.05923310593034659\n",
      "rededge3: 0.04598637319173889\n",
      "nir08: 0.035186241717828984\n",
      "swir16: 0.03337263865702358\n",
      "nir: 0.017278402407464036\n"
     ]
    }
   ],
   "source": [
    "from sklearn.metrics import classification_report, accuracy_score\n",
    "#Evaluar el modelo\n",
    "y_pred = rf_model.predict(X_test)\n",
    "print(classification_report(y_test, y_pred, target_names=label_classes))\n",
    "print(\"Accuracy:\", accuracy_score(y_test, y_pred))\n",
    "feature_importance = rf_model.feature_importances_\n",
    "\n",
    "if(len(selected_bands) == len(feature_importance)):\n",
    "    feature_importance = [(selected_bands[i], importance) for i, importance in enumerate(feature_importance)]\n",
    "    feature_importance = sorted(feature_importance, key=lambda x: x[1], reverse=True)\n",
    "    print(\"Características más importantes:\")\n",
    "    for feature, importance in feature_importance:\n",
    "        print(f\"{feature}: {importance}\")\n",
    "elif (len(index_names) == len(feature_importance)):\n",
    "    feature_importance = [(index_names[i], importance) for i, importance in enumerate(feature_importance)]\n",
    "    feature_importance = sorted(feature_importance, key=lambda x: x[1], reverse=True)\n",
    "    print(\"Características más importantes:\")\n",
    "    for feature, importance in feature_importance:\n",
    "        print(f\"{feature}: {importance}\")\n",
    "elif len(x_names) == len(feature_importance):\n",
    "    feature_importance = [(x_names[i], importance) for i, importance in enumerate(feature_importance)]\n",
    "    feature_importance = sorted(feature_importance, key=lambda x: x[1], reverse=True)\n",
    "    print(\"Características más importantes:\")\n",
    "    for feature, importance in feature_importance:\n",
    "        print(f\"{feature}: {importance}\")"
   ]
  },
  {
   "cell_type": "code",
   "execution_count": null,
   "metadata": {},
   "outputs": [],
   "source": [
    "from sklearn.ensemble import RandomForestClassifier\n",
    "from sklearn.model_selection import RandomizedSearchCV\n",
    "param_grid = {\n",
    "    'n_estimators': [100, 200, 300, 400, 500],\n",
    "    'max_depth': [None, 10, 20, 30],\n",
    "    'min_samples_split': [2, 5, 10],\n",
    "    'min_samples_leaf': [1, 2, 4],\n",
    "    'max_features': ['auto', 'sqrt'],\n",
    "    'bootstrap': [True, False]\n",
    "}\n",
    "\n"
   ]
  },
  {
   "cell_type": "code",
   "execution_count": null,
   "metadata": {},
   "outputs": [
    {
     "name": "stdout",
     "output_type": "stream",
     "text": [
      "Fitting 5 folds for each of 100 candidates, totalling 500 fits\n",
      "[CV 1/5] END bootstrap=False, max_depth=10, max_features=auto, min_samples_leaf=2, min_samples_split=5, n_estimators=100;, score=nan total time=   1.5s\n",
      "[CV 3/5] END bootstrap=False, max_depth=10, max_features=auto, min_samples_leaf=2, min_samples_split=5, n_estimators=100;, score=nan total time=   1.7s\n",
      "[CV 5/5] END bootstrap=False, max_depth=10, max_features=auto, min_samples_leaf=2, min_samples_split=5, n_estimators=100;, score=nan total time=   1.9s\n",
      "[CV 4/5] END bootstrap=False, max_depth=10, max_features=auto, min_samples_leaf=2, min_samples_split=5, n_estimators=100;, score=nan total time=   1.9s\n",
      "[CV 2/5] END bootstrap=False, max_depth=10, max_features=auto, min_samples_leaf=2, min_samples_split=5, n_estimators=100;, score=nan total time=   2.0s\n",
      "[CV 1/5] END bootstrap=False, max_depth=10, max_features=sqrt, min_samples_leaf=2, min_samples_split=10, n_estimators=100;, score=0.992 total time=21.1min\n",
      "[CV 2/5] END bootstrap=False, max_depth=10, max_features=sqrt, min_samples_leaf=2, min_samples_split=10, n_estimators=100;, score=0.992 total time=21.9min\n",
      "[CV 5/5] END bootstrap=False, max_depth=10, max_features=sqrt, min_samples_leaf=2, min_samples_split=10, n_estimators=100;, score=0.992 total time=22.0min\n",
      "[CV 3/5] END bootstrap=False, max_depth=10, max_features=sqrt, min_samples_leaf=2, min_samples_split=10, n_estimators=100;, score=0.993 total time=22.1min\n",
      "[CV 1/5] END bootstrap=True, max_depth=20, max_features=auto, min_samples_leaf=1, min_samples_split=2, n_estimators=500;, score=nan total time=   0.2s\n",
      "[CV 2/5] END bootstrap=True, max_depth=20, max_features=auto, min_samples_leaf=1, min_samples_split=2, n_estimators=500;, score=nan total time=   0.5s\n",
      "[CV 3/5] END bootstrap=True, max_depth=20, max_features=auto, min_samples_leaf=1, min_samples_split=2, n_estimators=500;, score=nan total time=   0.4s\n",
      "[CV 4/5] END bootstrap=True, max_depth=20, max_features=auto, min_samples_leaf=1, min_samples_split=2, n_estimators=500;, score=nan total time=   0.6s\n",
      "[CV 5/5] END bootstrap=True, max_depth=20, max_features=auto, min_samples_leaf=1, min_samples_split=2, n_estimators=500;, score=nan total time=   0.3s\n",
      "[CV 1/5] END bootstrap=True, max_depth=30, max_features=auto, min_samples_leaf=2, min_samples_split=5, n_estimators=500;, score=nan total time=   0.4s\n",
      "[CV 2/5] END bootstrap=True, max_depth=30, max_features=auto, min_samples_leaf=2, min_samples_split=5, n_estimators=500;, score=nan total time=   0.3s\n",
      "[CV 3/5] END bootstrap=True, max_depth=30, max_features=auto, min_samples_leaf=2, min_samples_split=5, n_estimators=500;, score=nan total time=   0.2s\n",
      "[CV 4/5] END bootstrap=True, max_depth=30, max_features=auto, min_samples_leaf=2, min_samples_split=5, n_estimators=500;, score=nan total time=   0.3s\n",
      "[CV 5/5] END bootstrap=True, max_depth=30, max_features=auto, min_samples_leaf=2, min_samples_split=5, n_estimators=500;, score=nan total time=   0.2s\n",
      "[CV 1/5] END bootstrap=True, max_depth=10, max_features=auto, min_samples_leaf=1, min_samples_split=2, n_estimators=200;, score=nan total time=   0.3s\n",
      "[CV 2/5] END bootstrap=True, max_depth=10, max_features=auto, min_samples_leaf=1, min_samples_split=2, n_estimators=200;, score=nan total time=   0.2s\n",
      "[CV 3/5] END bootstrap=True, max_depth=10, max_features=auto, min_samples_leaf=1, min_samples_split=2, n_estimators=200;, score=nan total time=   0.4s\n",
      "[CV 4/5] END bootstrap=True, max_depth=10, max_features=auto, min_samples_leaf=1, min_samples_split=2, n_estimators=200;, score=nan total time=   0.3s\n",
      "[CV 5/5] END bootstrap=True, max_depth=10, max_features=auto, min_samples_leaf=1, min_samples_split=2, n_estimators=200;, score=nan total time=   0.2s\n",
      "[CV 4/5] END bootstrap=False, max_depth=10, max_features=sqrt, min_samples_leaf=2, min_samples_split=10, n_estimators=100;, score=0.992 total time=22.2min\n",
      "[CV 4/5] END bootstrap=False, max_depth=None, max_features=sqrt, min_samples_leaf=2, min_samples_split=10, n_estimators=100;, score=0.998 total time=29.6min\n",
      "[CV 2/5] END bootstrap=False, max_depth=None, max_features=sqrt, min_samples_leaf=2, min_samples_split=10, n_estimators=100;, score=0.998 total time=31.3min\n",
      "[CV 3/5] END bootstrap=False, max_depth=None, max_features=sqrt, min_samples_leaf=2, min_samples_split=10, n_estimators=100;, score=0.998 total time=32.2min\n",
      "[CV 5/5] END bootstrap=False, max_depth=None, max_features=sqrt, min_samples_leaf=2, min_samples_split=10, n_estimators=100;, score=0.997 total time=33.0min\n",
      "[CV 1/5] END bootstrap=False, max_depth=None, max_features=sqrt, min_samples_leaf=2, min_samples_split=10, n_estimators=100;, score=0.997 total time=33.1min\n",
      "[CV 2/5] END bootstrap=True, max_depth=20, max_features=sqrt, min_samples_leaf=4, min_samples_split=2, n_estimators=200;, score=0.996 total time=43.3min\n",
      "[CV 1/5] END bootstrap=True, max_depth=20, max_features=sqrt, min_samples_leaf=4, min_samples_split=2, n_estimators=200;, score=0.996 total time=43.4min\n",
      "[CV 3/5] END bootstrap=True, max_depth=20, max_features=sqrt, min_samples_leaf=4, min_samples_split=2, n_estimators=200;, score=0.996 total time=40.9min\n",
      "[CV 4/5] END bootstrap=True, max_depth=20, max_features=sqrt, min_samples_leaf=4, min_samples_split=2, n_estimators=200;, score=0.996 total time=40.6min\n",
      "[CV 1/5] END bootstrap=True, max_depth=None, max_features=auto, min_samples_leaf=2, min_samples_split=10, n_estimators=200;, score=nan total time=   0.1s\n",
      "[CV 2/5] END bootstrap=True, max_depth=None, max_features=auto, min_samples_leaf=2, min_samples_split=10, n_estimators=200;, score=nan total time=   0.1s\n",
      "[CV 3/5] END bootstrap=True, max_depth=None, max_features=auto, min_samples_leaf=2, min_samples_split=10, n_estimators=200;, score=nan total time=   0.1s\n",
      "[CV 4/5] END bootstrap=True, max_depth=None, max_features=auto, min_samples_leaf=2, min_samples_split=10, n_estimators=200;, score=nan total time=   0.1s\n",
      "[CV 5/5] END bootstrap=True, max_depth=None, max_features=auto, min_samples_leaf=2, min_samples_split=10, n_estimators=200;, score=nan total time=   0.1s\n",
      "[CV 1/5] END bootstrap=True, max_depth=10, max_features=auto, min_samples_leaf=1, min_samples_split=2, n_estimators=500;, score=nan total time=   0.1s\n",
      "[CV 2/5] END bootstrap=True, max_depth=10, max_features=auto, min_samples_leaf=1, min_samples_split=2, n_estimators=500;, score=nan total time=   0.1s\n",
      "[CV 3/5] END bootstrap=True, max_depth=10, max_features=auto, min_samples_leaf=1, min_samples_split=2, n_estimators=500;, score=nan total time=   0.1s\n",
      "[CV 4/5] END bootstrap=True, max_depth=10, max_features=auto, min_samples_leaf=1, min_samples_split=2, n_estimators=500;, score=nan total time=   0.1s\n",
      "[CV 5/5] END bootstrap=True, max_depth=10, max_features=auto, min_samples_leaf=1, min_samples_split=2, n_estimators=500;, score=nan total time=   0.1s\n",
      "[CV 5/5] END bootstrap=True, max_depth=20, max_features=sqrt, min_samples_leaf=4, min_samples_split=2, n_estimators=200;, score=0.996 total time=42.6min\n",
      "[CV 2/5] END bootstrap=True, max_depth=20, max_features=sqrt, min_samples_leaf=2, min_samples_split=10, n_estimators=200;, score=0.996 total time=41.5min\n",
      "[CV 1/5] END bootstrap=True, max_depth=20, max_features=sqrt, min_samples_leaf=2, min_samples_split=10, n_estimators=200;, score=0.996 total time=44.4min\n",
      "[CV 1/5] END bootstrap=False, max_depth=20, max_features=sqrt, min_samples_leaf=1, min_samples_split=5, n_estimators=200;, score=0.997 total time=55.9min\n",
      "[CV 2/5] END bootstrap=False, max_depth=20, max_features=sqrt, min_samples_leaf=1, min_samples_split=5, n_estimators=200;, score=0.997 total time=56.1min\n",
      "[CV 4/5] END bootstrap=False, max_depth=20, max_features=sqrt, min_samples_leaf=1, min_samples_split=5, n_estimators=200;, score=0.997 total time=53.3min\n",
      "[CV 3/5] END bootstrap=True, max_depth=20, max_features=sqrt, min_samples_leaf=2, min_samples_split=10, n_estimators=200;, score=0.997 total time=41.8min\n",
      "[CV 3/5] END bootstrap=False, max_depth=20, max_features=sqrt, min_samples_leaf=1, min_samples_split=5, n_estimators=200;, score=0.997 total time=55.7min\n",
      "[CV 4/5] END bootstrap=True, max_depth=20, max_features=sqrt, min_samples_leaf=2, min_samples_split=10, n_estimators=200;, score=0.996 total time=42.2min\n",
      "[CV 5/5] END bootstrap=False, max_depth=20, max_features=sqrt, min_samples_leaf=1, min_samples_split=5, n_estimators=200;, score=0.997 total time=55.7min\n",
      "[CV 1/5] END bootstrap=True, max_depth=30, max_features=auto, min_samples_leaf=4, min_samples_split=2, n_estimators=100;, score=nan total time=   0.3s\n",
      "[CV 2/5] END bootstrap=True, max_depth=30, max_features=auto, min_samples_leaf=4, min_samples_split=2, n_estimators=100;, score=nan total time=   0.1s\n",
      "[CV 3/5] END bootstrap=True, max_depth=30, max_features=auto, min_samples_leaf=4, min_samples_split=2, n_estimators=100;, score=nan total time=   0.1s\n",
      "[CV 4/5] END bootstrap=True, max_depth=30, max_features=auto, min_samples_leaf=4, min_samples_split=2, n_estimators=100;, score=nan total time=   0.1s\n",
      "[CV 5/5] END bootstrap=True, max_depth=30, max_features=auto, min_samples_leaf=4, min_samples_split=2, n_estimators=100;, score=nan total time=   0.1s\n",
      "[CV 1/5] END bootstrap=True, max_depth=None, max_features=auto, min_samples_leaf=4, min_samples_split=10, n_estimators=100;, score=nan total time=   0.1s\n",
      "[CV 2/5] END bootstrap=True, max_depth=None, max_features=auto, min_samples_leaf=4, min_samples_split=10, n_estimators=100;, score=nan total time=   0.2s\n",
      "[CV 3/5] END bootstrap=True, max_depth=None, max_features=auto, min_samples_leaf=4, min_samples_split=10, n_estimators=100;, score=nan total time=   0.1s\n",
      "[CV 4/5] END bootstrap=True, max_depth=None, max_features=auto, min_samples_leaf=4, min_samples_split=10, n_estimators=100;, score=nan total time=   0.1s\n",
      "[CV 5/5] END bootstrap=True, max_depth=None, max_features=auto, min_samples_leaf=4, min_samples_split=10, n_estimators=100;, score=nan total time=   0.1s\n",
      "[CV 1/5] END bootstrap=True, max_depth=None, max_features=auto, min_samples_leaf=2, min_samples_split=2, n_estimators=400;, score=nan total time=   0.1s\n",
      "[CV 2/5] END bootstrap=True, max_depth=None, max_features=auto, min_samples_leaf=2, min_samples_split=2, n_estimators=400;, score=nan total time=   0.2s\n",
      "[CV 3/5] END bootstrap=True, max_depth=None, max_features=auto, min_samples_leaf=2, min_samples_split=2, n_estimators=400;, score=nan total time=   0.1s\n",
      "[CV 4/5] END bootstrap=True, max_depth=None, max_features=auto, min_samples_leaf=2, min_samples_split=2, n_estimators=400;, score=nan total time=   0.2s\n",
      "[CV 5/5] END bootstrap=True, max_depth=None, max_features=auto, min_samples_leaf=2, min_samples_split=2, n_estimators=400;, score=nan total time=   0.1s\n",
      "[CV 5/5] END bootstrap=True, max_depth=20, max_features=sqrt, min_samples_leaf=2, min_samples_split=10, n_estimators=200;, score=0.996 total time=43.2min\n",
      "[CV 1/5] END bootstrap=True, max_depth=None, max_features=sqrt, min_samples_leaf=1, min_samples_split=10, n_estimators=200;, score=0.997 total time=45.1min\n",
      "[CV 2/5] END bootstrap=True, max_depth=None, max_features=sqrt, min_samples_leaf=1, min_samples_split=10, n_estimators=200;, score=0.997 total time=46.0min\n",
      "[CV 4/5] END bootstrap=True, max_depth=None, max_features=sqrt, min_samples_leaf=1, min_samples_split=10, n_estimators=200;, score=0.997 total time=45.4min\n",
      "[CV 5/5] END bootstrap=True, max_depth=None, max_features=sqrt, min_samples_leaf=1, min_samples_split=10, n_estimators=200;, score=0.997 total time=48.0min\n",
      "[CV 3/5] END bootstrap=True, max_depth=None, max_features=sqrt, min_samples_leaf=1, min_samples_split=10, n_estimators=200;, score=0.997 total time=48.7min\n",
      "[CV 2/5] END bootstrap=True, max_depth=20, max_features=sqrt, min_samples_leaf=1, min_samples_split=5, n_estimators=400;, score=0.997 total time=82.7min\n"
     ]
    },
    {
     "name": "stderr",
     "output_type": "stream",
     "text": [
      "/home/jvl/tesis/.venv/lib/python3.10/site-packages/joblib/externals/loky/process_executor.py:752: UserWarning: A worker stopped while some jobs were given to the executor. This can be caused by a too short worker timeout or by a memory leak.\n",
      "  warnings.warn(\n"
     ]
    },
    {
     "name": "stdout",
     "output_type": "stream",
     "text": [
      "[CV 1/5] END bootstrap=True, max_depth=20, max_features=sqrt, min_samples_leaf=1, min_samples_split=5, n_estimators=400;, score=0.997 total time=88.4min\n",
      "[CV 1/5] END bootstrap=True, max_depth=30, max_features=sqrt, min_samples_leaf=2, min_samples_split=10, n_estimators=100;, score=0.997 total time=23.7min\n",
      "[CV 3/5] END bootstrap=True, max_depth=20, max_features=sqrt, min_samples_leaf=1, min_samples_split=5, n_estimators=400;, score=0.997 total time=83.1min\n",
      "[CV 1/5] END bootstrap=False, max_depth=30, max_features=auto, min_samples_leaf=4, min_samples_split=10, n_estimators=400;, score=nan total time=   0.2s\n",
      "[CV 2/5] END bootstrap=False, max_depth=30, max_features=auto, min_samples_leaf=4, min_samples_split=10, n_estimators=400;, score=nan total time=   0.1s\n",
      "[CV 3/5] END bootstrap=False, max_depth=30, max_features=auto, min_samples_leaf=4, min_samples_split=10, n_estimators=400;, score=nan total time=   0.1s\n",
      "[CV 4/5] END bootstrap=False, max_depth=30, max_features=auto, min_samples_leaf=4, min_samples_split=10, n_estimators=400;, score=nan total time=   0.1s\n",
      "[CV 5/5] END bootstrap=False, max_depth=30, max_features=auto, min_samples_leaf=4, min_samples_split=10, n_estimators=400;, score=nan total time=   0.1s\n",
      "[CV 2/5] END bootstrap=True, max_depth=30, max_features=sqrt, min_samples_leaf=2, min_samples_split=10, n_estimators=100;, score=0.997 total time=24.0min\n",
      "[CV 5/5] END bootstrap=True, max_depth=20, max_features=sqrt, min_samples_leaf=1, min_samples_split=5, n_estimators=400;, score=0.997 total time=83.6min\n",
      "[CV 4/5] END bootstrap=True, max_depth=20, max_features=sqrt, min_samples_leaf=1, min_samples_split=5, n_estimators=400;, score=0.997 total time=92.3min\n",
      "[CV 3/5] END bootstrap=True, max_depth=30, max_features=sqrt, min_samples_leaf=2, min_samples_split=10, n_estimators=100;, score=0.997 total time=22.5min\n",
      "[CV 4/5] END bootstrap=True, max_depth=30, max_features=sqrt, min_samples_leaf=2, min_samples_split=10, n_estimators=100;, score=0.997 total time=21.8min\n",
      "[CV 1/5] END bootstrap=False, max_depth=30, max_features=sqrt, min_samples_leaf=4, min_samples_split=5, n_estimators=300;, score=0.997 total time=87.6min\n",
      "[CV 5/5] END bootstrap=True, max_depth=30, max_features=sqrt, min_samples_leaf=2, min_samples_split=10, n_estimators=100;, score=0.997 total time=23.6min\n",
      "[CV 2/5] END bootstrap=False, max_depth=30, max_features=sqrt, min_samples_leaf=4, min_samples_split=5, n_estimators=300;, score=0.997 total time=89.5min\n",
      "[CV 1/5] END bootstrap=True, max_depth=20, max_features=sqrt, min_samples_leaf=1, min_samples_split=5, n_estimators=200;, score=0.997 total time=41.1min\n",
      "[CV 3/5] END bootstrap=True, max_depth=20, max_features=sqrt, min_samples_leaf=1, min_samples_split=5, n_estimators=200;, score=0.997 total time=40.9min\n",
      "[CV 2/5] END bootstrap=True, max_depth=20, max_features=sqrt, min_samples_leaf=1, min_samples_split=5, n_estimators=200;, score=0.997 total time=45.2min\n",
      "[CV 5/5] END bootstrap=True, max_depth=20, max_features=sqrt, min_samples_leaf=1, min_samples_split=5, n_estimators=200;, score=0.997 total time=40.6min\n",
      "[CV 3/5] END bootstrap=False, max_depth=30, max_features=sqrt, min_samples_leaf=4, min_samples_split=5, n_estimators=300;, score=0.997 total time=87.9min\n",
      "[CV 4/5] END bootstrap=True, max_depth=20, max_features=sqrt, min_samples_leaf=1, min_samples_split=5, n_estimators=200;, score=0.997 total time=42.2min\n",
      "[CV 5/5] END bootstrap=False, max_depth=30, max_features=sqrt, min_samples_leaf=4, min_samples_split=5, n_estimators=300;, score=0.997 total time=89.8min\n",
      "[CV 4/5] END bootstrap=False, max_depth=30, max_features=sqrt, min_samples_leaf=4, min_samples_split=5, n_estimators=300;, score=0.997 total time=93.6min\n",
      "[CV 1/5] END bootstrap=False, max_depth=10, max_features=sqrt, min_samples_leaf=2, min_samples_split=2, n_estimators=100;, score=0.992 total time=19.2min\n",
      "[CV 2/5] END bootstrap=False, max_depth=10, max_features=sqrt, min_samples_leaf=2, min_samples_split=2, n_estimators=100;, score=0.992 total time=20.8min\n",
      "[CV 3/5] END bootstrap=False, max_depth=10, max_features=sqrt, min_samples_leaf=2, min_samples_split=2, n_estimators=100;, score=0.993 total time=20.2min\n",
      "[CV 4/5] END bootstrap=False, max_depth=10, max_features=sqrt, min_samples_leaf=2, min_samples_split=2, n_estimators=100;, score=0.993 total time=21.9min\n",
      "[CV 5/5] END bootstrap=False, max_depth=10, max_features=sqrt, min_samples_leaf=2, min_samples_split=2, n_estimators=100;, score=0.992 total time=18.8min\n"
     ]
    },
    {
     "ename": "",
     "evalue": "",
     "output_type": "error",
     "traceback": [
      "\u001b[1;31mThe Kernel crashed while executing code in the the current cell or a previous cell. Please review the code in the cell(s) to identify a possible cause of the failure. Click <a href='https://aka.ms/vscodeJupyterKernelCrash'>here</a> for more info. View Jupyter <a href='command:jupyter.viewOutput'>log</a> for further details."
     ]
    }
   ],
   "source": [
    "rf = RandomForestClassifier()\n",
    "\n",
    "# Utiliza RandomizedSearchCV para búsqueda aleatoria\n",
    "random_search = RandomizedSearchCV(rf, param_distributions=param_grid, n_iter=100, cv=5, n_jobs=-1, verbose=6)\n",
    "\n",
    "# O utiliza GridSearchCV para búsqueda exhaustiva\n",
    "# grid_search = GridSearchCV(rf, param_grid=param_grid, cv=5, n_jobs=-1)\n",
    "\n",
    "# Ajusta el modelo a tus datos de entrenamiento\n",
    "random_search.fit(X_train, y_train)\n",
    "\n",
    "# Muestra los mejores hiperparámetros encontrados\n",
    "print(\"Mejores hiperparámetros encontrados:\")\n",
    "print(random_search.best_params_)"
   ]
  },
  {
   "cell_type": "code",
   "execution_count": null,
   "metadata": {},
   "outputs": [],
   "source": [
    "from sklearn.metrics import confusion_matrix\n",
    "import seaborn as sns\n",
    "import matplotlib.pyplot as plt\n",
    "\n",
    "\n",
    "# Supongamos que tienes tus etiquetas reales en y_test y las predicciones en y_pred\n",
    "confusion_mat = confusion_matrix(y_test, y_pred, labels=[0, 1, 2])\n",
    "\n",
    "# Utiliza seaborn para visualizar la matriz de confusión\n",
    "plt.figure(figsize=(8, 6))\n",
    "sns.heatmap(confusion_mat, annot=True, fmt='d', cmap='Blues', xticklabels=label_classes, yticklabels=label_classes)\n",
    "plt.xlabel('Predicciones')\n",
    "plt.ylabel('Etiquetas Verdaderas')\n",
    "plt.title('Matriz de Confusión')\n",
    "plt.show()\n",
    "\n",
    "    "
   ]
  },
  {
   "cell_type": "code",
   "execution_count": null,
   "metadata": {},
   "outputs": [],
   "source": [
    "from sklearn.model_selection import GridSearchCV\n",
    "\n",
    "# Entrenar Regresión Logística\n",
    "log_reg_model = LogisticRegression(max_iter=100000)\n",
    "best_params = {'C': 10.0, 'fit_intercept': True, 'penalty': 'l2'}\n",
    "log_reg_model_best = LogisticRegression(**best_params)\n",
    "log_reg_model.fit(X_train, y_train)\n",
    "log_reg_model_best.fit(X_train, y_train)\n"
   ]
  },
  {
   "cell_type": "code",
   "execution_count": null,
   "metadata": {},
   "outputs": [],
   "source": [
    "\n",
    "# Definir la cuadrícula de hiperparámetros para la búsqueda\n",
    "param_grid = {\n",
    "    'C': [0.01, 0.1, 1.0, 10.0],\n",
    "    'penalty': ['None', 'l2'],\n",
    "    'fit_intercept': [True, False]\n",
    "}\n",
    "\n",
    "# Realizar la búsqueda de hiperparámetros usando validación cruzada\n",
    "grid_search = GridSearchCV(log_reg_model, param_grid, cv=5, scoring='accuracy')\n",
    "grid_search.fit(X_train, y_train)\n",
    "\n",
    "# Imprimir los mejores hiperparámetros encontrados\n",
    "print(\"Mejores hiperparámetros para la Regresión Logística:\")\n",
    "print(grid_search.best_params_)\n"
   ]
  },
  {
   "cell_type": "code",
   "execution_count": null,
   "metadata": {},
   "outputs": [],
   "source": [
    "# Evaluación\n",
    "for model, name in zip([log_reg_model, rf_model, log_reg_model_best], [\"Logistic Regression\", \"Random Forest\", \"Logistic Regression Best\"]):\n",
    "    y_pred = model.predict(X_test)\n",
    "    print(f\"Evaluation of {name}:\")\n",
    "    print(\"Accuracy:\", accuracy_score(y_test, y_pred))\n",
    "    print(classification_report(y_test, y_pred))"
   ]
  }
 ],
 "metadata": {
  "kernelspec": {
   "display_name": ".venv",
   "language": "python",
   "name": "python3"
  },
  "language_info": {
   "codemirror_mode": {
    "name": "ipython",
    "version": 3
   },
   "file_extension": ".py",
   "mimetype": "text/x-python",
   "name": "python",
   "nbconvert_exporter": "python",
   "pygments_lexer": "ipython3",
   "version": "3.10.12"
  }
 },
 "nbformat": 4,
 "nbformat_minor": 2
}
